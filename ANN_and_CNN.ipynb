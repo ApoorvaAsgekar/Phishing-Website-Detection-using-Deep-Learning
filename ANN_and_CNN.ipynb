{
  "cells": [
    {
      "cell_type": "markdown",
      "metadata": {
        "id": "jbIRwXNJHoCc"
      },
      "source": [
        "# **Loading and Pre-Processing the Dataset**"
      ]
    },
    {
      "cell_type": "code",
      "execution_count": null,
      "metadata": {
        "id": "7zwHgyvduwEc"
      },
      "outputs": [],
      "source": [
        "# Import required libraries\n",
        "import pandas as pd\n",
        "import matplotlib.pyplot as plt\n",
        "import seaborn as sns\n",
        "import numpy as np\n",
        "import re\n",
        "import plotly.express as px\n",
        "from urllib.parse import urlparse\n",
        "\n",
        "from sklearn.metrics import accuracy_score\n",
        "from sklearn.metrics import confusion_matrix\n",
        "from sklearn.metrics import classification_report\n",
        "\n",
        "%matplotlib inline"
      ]
    },
    {
      "cell_type": "code",
      "execution_count": null,
      "metadata": {
        "colab": {
          "base_uri": "https://localhost:8080/",
          "height": 206
        },
        "id": "zrfYa3zBuzUT",
        "outputId": "9554953c-6d20-4ea2-a8aa-6d8b5d08f677"
      },
      "outputs": [
        {
          "output_type": "execute_result",
          "data": {
            "text/plain": [
              "                                      URL     CLASS\n",
              "0         https://linktr.ee/btinternetlee  Phishing\n",
              "1            https://tinyurl.com/3j3k2mzd  Phishing\n",
              "2              https://nevstr.weebly.com/  Phishing\n",
              "3  https://link.account-update824.com/em=  Phishing\n",
              "4      https://amazomerowihuiegarbcc.xyz/  Phishing"
            ],
            "text/html": [
              "\n",
              "  <div id=\"df-57777a21-1200-49c9-a152-31c022ace385\">\n",
              "    <div class=\"colab-df-container\">\n",
              "      <div>\n",
              "<style scoped>\n",
              "    .dataframe tbody tr th:only-of-type {\n",
              "        vertical-align: middle;\n",
              "    }\n",
              "\n",
              "    .dataframe tbody tr th {\n",
              "        vertical-align: top;\n",
              "    }\n",
              "\n",
              "    .dataframe thead th {\n",
              "        text-align: right;\n",
              "    }\n",
              "</style>\n",
              "<table border=\"1\" class=\"dataframe\">\n",
              "  <thead>\n",
              "    <tr style=\"text-align: right;\">\n",
              "      <th></th>\n",
              "      <th>URL</th>\n",
              "      <th>CLASS</th>\n",
              "    </tr>\n",
              "  </thead>\n",
              "  <tbody>\n",
              "    <tr>\n",
              "      <th>0</th>\n",
              "      <td>https://linktr.ee/btinternetlee</td>\n",
              "      <td>Phishing</td>\n",
              "    </tr>\n",
              "    <tr>\n",
              "      <th>1</th>\n",
              "      <td>https://tinyurl.com/3j3k2mzd</td>\n",
              "      <td>Phishing</td>\n",
              "    </tr>\n",
              "    <tr>\n",
              "      <th>2</th>\n",
              "      <td>https://nevstr.weebly.com/</td>\n",
              "      <td>Phishing</td>\n",
              "    </tr>\n",
              "    <tr>\n",
              "      <th>3</th>\n",
              "      <td>https://link.account-update824.com/em=</td>\n",
              "      <td>Phishing</td>\n",
              "    </tr>\n",
              "    <tr>\n",
              "      <th>4</th>\n",
              "      <td>https://amazomerowihuiegarbcc.xyz/</td>\n",
              "      <td>Phishing</td>\n",
              "    </tr>\n",
              "  </tbody>\n",
              "</table>\n",
              "</div>\n",
              "      <button class=\"colab-df-convert\" onclick=\"convertToInteractive('df-57777a21-1200-49c9-a152-31c022ace385')\"\n",
              "              title=\"Convert this dataframe to an interactive table.\"\n",
              "              style=\"display:none;\">\n",
              "        \n",
              "  <svg xmlns=\"http://www.w3.org/2000/svg\" height=\"24px\"viewBox=\"0 0 24 24\"\n",
              "       width=\"24px\">\n",
              "    <path d=\"M0 0h24v24H0V0z\" fill=\"none\"/>\n",
              "    <path d=\"M18.56 5.44l.94 2.06.94-2.06 2.06-.94-2.06-.94-.94-2.06-.94 2.06-2.06.94zm-11 1L8.5 8.5l.94-2.06 2.06-.94-2.06-.94L8.5 2.5l-.94 2.06-2.06.94zm10 10l.94 2.06.94-2.06 2.06-.94-2.06-.94-.94-2.06-.94 2.06-2.06.94z\"/><path d=\"M17.41 7.96l-1.37-1.37c-.4-.4-.92-.59-1.43-.59-.52 0-1.04.2-1.43.59L10.3 9.45l-7.72 7.72c-.78.78-.78 2.05 0 2.83L4 21.41c.39.39.9.59 1.41.59.51 0 1.02-.2 1.41-.59l7.78-7.78 2.81-2.81c.8-.78.8-2.07 0-2.86zM5.41 20L4 18.59l7.72-7.72 1.47 1.35L5.41 20z\"/>\n",
              "  </svg>\n",
              "      </button>\n",
              "      \n",
              "  <style>\n",
              "    .colab-df-container {\n",
              "      display:flex;\n",
              "      flex-wrap:wrap;\n",
              "      gap: 12px;\n",
              "    }\n",
              "\n",
              "    .colab-df-convert {\n",
              "      background-color: #E8F0FE;\n",
              "      border: none;\n",
              "      border-radius: 50%;\n",
              "      cursor: pointer;\n",
              "      display: none;\n",
              "      fill: #1967D2;\n",
              "      height: 32px;\n",
              "      padding: 0 0 0 0;\n",
              "      width: 32px;\n",
              "    }\n",
              "\n",
              "    .colab-df-convert:hover {\n",
              "      background-color: #E2EBFA;\n",
              "      box-shadow: 0px 1px 2px rgba(60, 64, 67, 0.3), 0px 1px 3px 1px rgba(60, 64, 67, 0.15);\n",
              "      fill: #174EA6;\n",
              "    }\n",
              "\n",
              "    [theme=dark] .colab-df-convert {\n",
              "      background-color: #3B4455;\n",
              "      fill: #D2E3FC;\n",
              "    }\n",
              "\n",
              "    [theme=dark] .colab-df-convert:hover {\n",
              "      background-color: #434B5C;\n",
              "      box-shadow: 0px 1px 3px 1px rgba(0, 0, 0, 0.15);\n",
              "      filter: drop-shadow(0px 1px 2px rgba(0, 0, 0, 0.3));\n",
              "      fill: #FFFFFF;\n",
              "    }\n",
              "  </style>\n",
              "\n",
              "      <script>\n",
              "        const buttonEl =\n",
              "          document.querySelector('#df-57777a21-1200-49c9-a152-31c022ace385 button.colab-df-convert');\n",
              "        buttonEl.style.display =\n",
              "          google.colab.kernel.accessAllowed ? 'block' : 'none';\n",
              "\n",
              "        async function convertToInteractive(key) {\n",
              "          const element = document.querySelector('#df-57777a21-1200-49c9-a152-31c022ace385');\n",
              "          const dataTable =\n",
              "            await google.colab.kernel.invokeFunction('convertToInteractive',\n",
              "                                                     [key], {});\n",
              "          if (!dataTable) return;\n",
              "\n",
              "          const docLinkHtml = 'Like what you see? Visit the ' +\n",
              "            '<a target=\"_blank\" href=https://colab.research.google.com/notebooks/data_table.ipynb>data table notebook</a>'\n",
              "            + ' to learn more about interactive tables.';\n",
              "          element.innerHTML = '';\n",
              "          dataTable['output_type'] = 'display_data';\n",
              "          await google.colab.output.renderOutput(dataTable, element);\n",
              "          const docLink = document.createElement('div');\n",
              "          docLink.innerHTML = docLinkHtml;\n",
              "          element.appendChild(docLink);\n",
              "        }\n",
              "      </script>\n",
              "    </div>\n",
              "  </div>\n",
              "  "
            ]
          },
          "metadata": {},
          "execution_count": 2
        }
      ],
      "source": [
        "# Import the dataset\n",
        "df=pd.read_csv('Dataset (1).csv')\n",
        "df.head()"
      ]
    },
    {
      "cell_type": "code",
      "execution_count": null,
      "metadata": {
        "colab": {
          "base_uri": "https://localhost:8080/",
          "height": 206
        },
        "id": "BT-lul6Mu1hm",
        "outputId": "314ad466-e0f8-40f4-8b32-1941fd7e58a0"
      },
      "outputs": [
        {
          "output_type": "execute_result",
          "data": {
            "text/plain": [
              "                                                     URL       CLASS\n",
              "21576  http://codepen.io/api/oembed?url=http%3A%2F%2F...  Legitimate\n",
              "21577  http://comicbook.com/2014/10/30/pee-wee-herman...  Legitimate\n",
              "21578  http://comicbook.com/2014/12/25/top-ten-comic-...  Legitimate\n",
              "21579  http://comicbook.com/2014/12/30/captain-americ...  Legitimate\n",
              "21580  http://comicbook.com/2015/03/06/jared-leto-wan...  Legitimate"
            ],
            "text/html": [
              "\n",
              "  <div id=\"df-cb36f2c9-e344-4be6-ab05-0c105962375c\">\n",
              "    <div class=\"colab-df-container\">\n",
              "      <div>\n",
              "<style scoped>\n",
              "    .dataframe tbody tr th:only-of-type {\n",
              "        vertical-align: middle;\n",
              "    }\n",
              "\n",
              "    .dataframe tbody tr th {\n",
              "        vertical-align: top;\n",
              "    }\n",
              "\n",
              "    .dataframe thead th {\n",
              "        text-align: right;\n",
              "    }\n",
              "</style>\n",
              "<table border=\"1\" class=\"dataframe\">\n",
              "  <thead>\n",
              "    <tr style=\"text-align: right;\">\n",
              "      <th></th>\n",
              "      <th>URL</th>\n",
              "      <th>CLASS</th>\n",
              "    </tr>\n",
              "  </thead>\n",
              "  <tbody>\n",
              "    <tr>\n",
              "      <th>21576</th>\n",
              "      <td>http://codepen.io/api/oembed?url=http%3A%2F%2F...</td>\n",
              "      <td>Legitimate</td>\n",
              "    </tr>\n",
              "    <tr>\n",
              "      <th>21577</th>\n",
              "      <td>http://comicbook.com/2014/10/30/pee-wee-herman...</td>\n",
              "      <td>Legitimate</td>\n",
              "    </tr>\n",
              "    <tr>\n",
              "      <th>21578</th>\n",
              "      <td>http://comicbook.com/2014/12/25/top-ten-comic-...</td>\n",
              "      <td>Legitimate</td>\n",
              "    </tr>\n",
              "    <tr>\n",
              "      <th>21579</th>\n",
              "      <td>http://comicbook.com/2014/12/30/captain-americ...</td>\n",
              "      <td>Legitimate</td>\n",
              "    </tr>\n",
              "    <tr>\n",
              "      <th>21580</th>\n",
              "      <td>http://comicbook.com/2015/03/06/jared-leto-wan...</td>\n",
              "      <td>Legitimate</td>\n",
              "    </tr>\n",
              "  </tbody>\n",
              "</table>\n",
              "</div>\n",
              "      <button class=\"colab-df-convert\" onclick=\"convertToInteractive('df-cb36f2c9-e344-4be6-ab05-0c105962375c')\"\n",
              "              title=\"Convert this dataframe to an interactive table.\"\n",
              "              style=\"display:none;\">\n",
              "        \n",
              "  <svg xmlns=\"http://www.w3.org/2000/svg\" height=\"24px\"viewBox=\"0 0 24 24\"\n",
              "       width=\"24px\">\n",
              "    <path d=\"M0 0h24v24H0V0z\" fill=\"none\"/>\n",
              "    <path d=\"M18.56 5.44l.94 2.06.94-2.06 2.06-.94-2.06-.94-.94-2.06-.94 2.06-2.06.94zm-11 1L8.5 8.5l.94-2.06 2.06-.94-2.06-.94L8.5 2.5l-.94 2.06-2.06.94zm10 10l.94 2.06.94-2.06 2.06-.94-2.06-.94-.94-2.06-.94 2.06-2.06.94z\"/><path d=\"M17.41 7.96l-1.37-1.37c-.4-.4-.92-.59-1.43-.59-.52 0-1.04.2-1.43.59L10.3 9.45l-7.72 7.72c-.78.78-.78 2.05 0 2.83L4 21.41c.39.39.9.59 1.41.59.51 0 1.02-.2 1.41-.59l7.78-7.78 2.81-2.81c.8-.78.8-2.07 0-2.86zM5.41 20L4 18.59l7.72-7.72 1.47 1.35L5.41 20z\"/>\n",
              "  </svg>\n",
              "      </button>\n",
              "      \n",
              "  <style>\n",
              "    .colab-df-container {\n",
              "      display:flex;\n",
              "      flex-wrap:wrap;\n",
              "      gap: 12px;\n",
              "    }\n",
              "\n",
              "    .colab-df-convert {\n",
              "      background-color: #E8F0FE;\n",
              "      border: none;\n",
              "      border-radius: 50%;\n",
              "      cursor: pointer;\n",
              "      display: none;\n",
              "      fill: #1967D2;\n",
              "      height: 32px;\n",
              "      padding: 0 0 0 0;\n",
              "      width: 32px;\n",
              "    }\n",
              "\n",
              "    .colab-df-convert:hover {\n",
              "      background-color: #E2EBFA;\n",
              "      box-shadow: 0px 1px 2px rgba(60, 64, 67, 0.3), 0px 1px 3px 1px rgba(60, 64, 67, 0.15);\n",
              "      fill: #174EA6;\n",
              "    }\n",
              "\n",
              "    [theme=dark] .colab-df-convert {\n",
              "      background-color: #3B4455;\n",
              "      fill: #D2E3FC;\n",
              "    }\n",
              "\n",
              "    [theme=dark] .colab-df-convert:hover {\n",
              "      background-color: #434B5C;\n",
              "      box-shadow: 0px 1px 3px 1px rgba(0, 0, 0, 0.15);\n",
              "      filter: drop-shadow(0px 1px 2px rgba(0, 0, 0, 0.3));\n",
              "      fill: #FFFFFF;\n",
              "    }\n",
              "  </style>\n",
              "\n",
              "      <script>\n",
              "        const buttonEl =\n",
              "          document.querySelector('#df-cb36f2c9-e344-4be6-ab05-0c105962375c button.colab-df-convert');\n",
              "        buttonEl.style.display =\n",
              "          google.colab.kernel.accessAllowed ? 'block' : 'none';\n",
              "\n",
              "        async function convertToInteractive(key) {\n",
              "          const element = document.querySelector('#df-cb36f2c9-e344-4be6-ab05-0c105962375c');\n",
              "          const dataTable =\n",
              "            await google.colab.kernel.invokeFunction('convertToInteractive',\n",
              "                                                     [key], {});\n",
              "          if (!dataTable) return;\n",
              "\n",
              "          const docLinkHtml = 'Like what you see? Visit the ' +\n",
              "            '<a target=\"_blank\" href=https://colab.research.google.com/notebooks/data_table.ipynb>data table notebook</a>'\n",
              "            + ' to learn more about interactive tables.';\n",
              "          element.innerHTML = '';\n",
              "          dataTable['output_type'] = 'display_data';\n",
              "          await google.colab.output.renderOutput(dataTable, element);\n",
              "          const docLink = document.createElement('div');\n",
              "          docLink.innerHTML = docLinkHtml;\n",
              "          element.appendChild(docLink);\n",
              "        }\n",
              "      </script>\n",
              "    </div>\n",
              "  </div>\n",
              "  "
            ]
          },
          "metadata": {},
          "execution_count": 3
        }
      ],
      "source": [
        "df.tail()"
      ]
    },
    {
      "cell_type": "code",
      "execution_count": null,
      "metadata": {
        "colab": {
          "base_uri": "https://localhost:8080/"
        },
        "id": "TRfF2wQotYzf",
        "outputId": "e4f8d6ee-6d96-4447-96b3-02c72e5d9dc2"
      },
      "outputs": [
        {
          "output_type": "execute_result",
          "data": {
            "text/plain": [
              "(21581, 2)"
            ]
          },
          "metadata": {},
          "execution_count": 4
        }
      ],
      "source": [
        "df.shape"
      ]
    },
    {
      "cell_type": "code",
      "execution_count": null,
      "metadata": {
        "colab": {
          "base_uri": "https://localhost:8080/",
          "height": 333
        },
        "id": "Sg3s8vMBB1z5",
        "outputId": "8929890f-f966-459f-908a-dd96112ef0a9"
      },
      "outputs": [
        {
          "output_type": "stream",
          "name": "stderr",
          "text": [
            "/usr/local/lib/python3.7/dist-packages/seaborn/_decorators.py:43: FutureWarning: Pass the following variable as a keyword arg: x. From version 0.12, the only valid positional argument will be `data`, and passing other arguments without an explicit keyword will result in an error or misinterpretation.\n",
            "  FutureWarning\n"
          ]
        },
        {
          "output_type": "display_data",
          "data": {
            "text/plain": [
              "<Figure size 432x288 with 1 Axes>"
            ],
            "image/png": "[encoded data removed]"
          },
          "metadata": {
            "needs_background": "light"
          }
        }
      ],
      "source": [
        "df = pd.read_csv('Dataset (1).csv')\n",
        "sns.countplot(df['CLASS'])\n",
        "df1 = df.replace(['Phishing', 'Legitimate'], [0, 1])"
      ]
    },
    {
      "cell_type": "code",
      "execution_count": null,
      "metadata": {
        "colab": {
          "base_uri": "https://localhost:8080/"
        },
        "id": "vw5LwVs1lMgW",
        "outputId": "6a7dc4e2-5ccd-48c3-8a16-169f85392f2a"
      },
      "outputs": [
        {
          "output_type": "execute_result",
          "data": {
            "text/plain": [
              "<bound method NDFrame.head of                                                      URL  CLASS\n",
              "0                        https://linktr.ee/btinternetlee      0\n",
              "1                           https://tinyurl.com/3j3k2mzd      0\n",
              "2                             https://nevstr.weebly.com/      0\n",
              "3                 https://link.account-update824.com/em=      0\n",
              "4                     https://amazomerowihuiegarbcc.xyz/      0\n",
              "...                                                  ...    ...\n",
              "21576  http://codepen.io/api/oembed?url=http%3A%2F%2F...      1\n",
              "21577  http://comicbook.com/2014/10/30/pee-wee-herman...      1\n",
              "21578  http://comicbook.com/2014/12/25/top-ten-comic-...      1\n",
              "21579  http://comicbook.com/2014/12/30/captain-americ...      1\n",
              "21580  http://comicbook.com/2015/03/06/jared-leto-wan...      1\n",
              "\n",
              "[21581 rows x 2 columns]>"
            ]
          },
          "metadata": {},
          "execution_count": 6
        }
      ],
      "source": [
        "df1.head"
      ]
    },
    {
      "cell_type": "markdown",
      "metadata": {
        "id": "YLYiJppcHwTv"
      },
      "source": [
        "# **Feature Extraction for URL**"
      ]
    },
    {
      "cell_type": "code",
      "execution_count": null,
      "metadata": {
        "id": "m2xO2FNXH8mE"
      },
      "outputs": [],
      "source": [
        "# Checks for IP address in URL (Have_IP)\n",
        "def havingIP(url):\n",
        "  try:\n",
        "    ipaddress.ip_address(url)\n",
        "    ip = 0\n",
        "  except:\n",
        "    ip = 1\n",
        "  return ip"
      ]
    },
    {
      "cell_type": "code",
      "execution_count": null,
      "metadata": {
        "id": "Vt2Cmz1nIKAO"
      },
      "outputs": [],
      "source": [
        "# Checks the presence of @ in URL (Have_At)\n",
        "def haveAtSign(url):\n",
        "  if \"@\" in url:\n",
        "    at = 0\n",
        "  else:\n",
        "    at = 1\n",
        "  return at"
      ]
    },
    {
      "cell_type": "code",
      "execution_count": null,
      "metadata": {
        "id": "1I-Ihi4pIPb-"
      },
      "outputs": [],
      "source": [
        "# Finding the length of URL and categorizing (URL_Length)\n",
        "def getLength(url):\n",
        "  if len(url) < 54:\n",
        "    length =1\n",
        "  else:\n",
        "    length = 0\n",
        "  return length"
      ]
    },
    {
      "cell_type": "code",
      "execution_count": null,
      "metadata": {
        "id": "L2r8Vm9LITSq"
      },
      "outputs": [],
      "source": [
        "# Existence of “HTTPS” Token in the Domain Part of the URL (https_Domain)\n",
        "def get_protocol(url):\n",
        "    protocol = urlparse(url)\n",
        "    if protocol.scheme == 'https':\n",
        "        return 0\n",
        "    else:\n",
        "        return 1"
      ]
    },
    {
      "cell_type": "code",
      "execution_count": null,
      "metadata": {
        "id": "C7I9XymSIWh3"
      },
      "outputs": [],
      "source": [
        "# Gives number of '/' in URL (URL_Depth)\n",
        "def getDepth(url):\n",
        "  s = urlparse(url).path.split('/')\n",
        "  depth = 0\n",
        "  for j in range(len(s)):\n",
        "    if len(s[j]) != 0:\n",
        "      depth = depth+1\n",
        "  return depth"
      ]
    },
    {
      "cell_type": "code",
      "execution_count": null,
      "metadata": {
        "id": "BF3buI1wIauN"
      },
      "outputs": [],
      "source": [
        "# Checking for redirection '//' in the url (Redirection)\n",
        "def redirection(url):\n",
        "  pos = url.rfind('//')\n",
        "  if pos > 6:\n",
        "    if pos > 7:\n",
        "      return 0\n",
        "    else:\n",
        "      return 1\n",
        "  else:\n",
        "    return 1"
      ]
    },
    {
      "cell_type": "code",
      "execution_count": null,
      "metadata": {
        "id": "TMxFWoJRIe-O"
      },
      "outputs": [],
      "source": [
        "#listing shortening services\n",
        "shortening_services = r\"bit\\.ly|goo\\.gl|shorte\\.st|go2l\\.ink|x\\.co|ow\\.ly|t\\.co|tinyurl|tr\\.im|is\\.gd|cli\\.gs|\" \\\n",
        "                      r\"yfrog\\.com|migre\\.me|ff\\.im|tiny\\.cc|url4\\.eu|twit\\.ac|su\\.pr|twurl\\.nl|snipurl\\.com|\" \\\n",
        "                      r\"short\\.to|BudURL\\.com|ping\\.fm|post\\.ly|Just\\.as|bkite\\.com|snipr\\.com|fic\\.kr|loopt\\.us|\" \\\n",
        "                      r\"doiop\\.com|short\\.ie|kl\\.am|wp\\.me|rubyurl\\.com|om\\.ly|to\\.ly|bit\\.do|t\\.co|lnkd\\.in|db\\.tt|\" \\\n",
        "                      r\"qr\\.ae|adf\\.ly|goo\\.gl|bitly\\.com|cur\\.lv|tinyurl\\.com|ow\\.ly|bit\\.ly|ity\\.im|q\\.gs|is\\.gd|\" \\\n",
        "                      r\"po\\.st|bc\\.vc|twitthis\\.com|u\\.to|j\\.mp|buzurl\\.com|cutt\\.us|u\\.bb|yourls\\.org|x\\.co|\" \\\n",
        "                      r\"prettylinkpro\\.com|scrnch\\.me|filoops\\.info|vzturl\\.com|qr\\.net|1url\\.com|tweez\\.me|v\\.gd|\" \\\n",
        "                      r\"tr\\.im|link\\.zip\\.net\"\n",
        "\n",
        "\n",
        "# Checking for Shortening Services in URL (Tiny_URL)\n",
        "def tinyURL(url):\n",
        "    match=re.search(shortening_services,url)\n",
        "    if match:\n",
        "        return 0\n",
        "    else:\n",
        "        return 1\n",
        "\n"
      ]
    },
    {
      "cell_type": "code",
      "execution_count": null,
      "metadata": {
        "id": "hgyRFcLGIhu7"
      },
      "outputs": [],
      "source": [
        "# Checking for Prefix or Suffix Separated by (-) in the Domain (Prefix/Suffix)\n",
        "def prefixSuffix(url):\n",
        "    if '-' in urlparse(url).netloc:\n",
        "        return 0\n",
        "    else:\n",
        "        return 1"
      ]
    },
    {
      "cell_type": "code",
      "execution_count": null,
      "metadata": {
        "id": "raNhVQcbvWso"
      },
      "outputs": [],
      "source": [
        "ip = []\n",
        "attherate = []\n",
        "url_length= []\n",
        "protocol = []\n",
        "singleSlash= []\n",
        "doubleSlash= []\n",
        "tinyurl = []\n",
        "hyphen= []\n"
      ]
    },
    {
      "cell_type": "code",
      "execution_count": null,
      "metadata": {
        "id": "L71GqfWrvcG0"
      },
      "outputs": [],
      "source": [
        "def extract_all_features():\n",
        "  counter = 0\n",
        "  for url in df['URL']:\n",
        "        counter = counter + 1\n",
        "        ip.append(havingIP(url))\n",
        "        attherate.append(haveAtSign(url))\n",
        "        url_length.append(getLength(url))\n",
        "        singleSlash.append(getDepth(url))\n",
        "        doubleSlash.append(redirection(url))\n",
        "        protocol.append(get_protocol(url))\n",
        "        hyphen.append(prefixSuffix(url))\n",
        "        tinyurl.append(tinyURL(url))"
      ]
    },
    {
      "cell_type": "code",
      "execution_count": null,
      "metadata": {
        "id": "dfEvDJM0vcNV"
      },
      "outputs": [],
      "source": [
        "extract_all_features()"
      ]
    },
    {
      "cell_type": "code",
      "execution_count": null,
      "metadata": {
        "id": "MC6YeMMeJYjP"
      },
      "outputs": [],
      "source": [
        "features_df = pd.DataFrame()\n",
        "features_df[\"IP Check\"] = ip\n",
        "features_df[\"At The Rate\"] = attherate\n",
        "features_df[\"URL Length\"] = url_length\n",
        "features_df[\"Single Slash\"] = singleSlash\n",
        "features_df[\"Double Slash\"] = doubleSlash\n",
        "features_df[\"HTTP/HTTPS\"] = protocol\n",
        "features_df[\"Hyphen \"] = hyphen\n",
        "features_df[\"Tiny URL\"] = tinyurl\n",
        "features_df[\"Class\"] = df1.CLASS"
      ]
    },
    {
      "cell_type": "code",
      "execution_count": null,
      "metadata": {
        "colab": {
          "base_uri": "https://localhost:8080/",
          "height": 676
        },
        "id": "yyHNKHMXvtkU",
        "outputId": "89111a12-dd7d-4d4a-a7e2-afbe5911861d"
      },
      "outputs": [
        {
          "output_type": "execute_result",
          "data": {
            "text/plain": [
              "    IP Check  At The Rate  URL Length  Single Slash  Double Slash  HTTP/HTTPS  \\\n",
              "0          1            1           1             1             1           0   \n",
              "1          1            1           1             1             1           0   \n",
              "2          1            1           1             0             1           0   \n",
              "3          1            1           1             1             1           0   \n",
              "4          1            1           1             0             1           0   \n",
              "5          1            1           1             0             1           0   \n",
              "6          1            1           1             2             1           1   \n",
              "7          1            1           1             1             1           0   \n",
              "8          1            1           1             1             1           0   \n",
              "9          1            1           1             2             1           0   \n",
              "10         1            1           1             2             0           0   \n",
              "11         1            1           0             4             1           1   \n",
              "12         1            1           0             1             1           0   \n",
              "13         1            1           1             1             1           0   \n",
              "14         1            1           1             1             1           0   \n",
              "15         1            1           1             1             1           0   \n",
              "16         1            1           0             1             1           0   \n",
              "17         1            1           1             1             1           0   \n",
              "18         1            1           1             0             1           0   \n",
              "19         1            1           1             1             1           0   \n",
              "\n",
              "    Hyphen   Tiny URL  Class  \n",
              "0         1         1      0  \n",
              "1         1         0      0  \n",
              "2         1         1      0  \n",
              "3         0         1      0  \n",
              "4         1         1      0  \n",
              "5         0         1      0  \n",
              "6         1         1      0  \n",
              "7         1         1      0  \n",
              "8         0         1      0  \n",
              "9         1         1      0  \n",
              "10        1         1      0  \n",
              "11        0         1      0  \n",
              "12        0         1      0  \n",
              "13        1         0      0  \n",
              "14        1         0      0  \n",
              "15        1         1      0  \n",
              "16        0         1      0  \n",
              "17        1         1      0  \n",
              "18        0         1      0  \n",
              "19        1         1      0  "
            ],
            "text/html": [
              "\n",
              "  <div id=\"df-7cb6170c-7bd5-48bd-a025-387455df95c6\">\n",
              "    <div class=\"colab-df-container\">\n",
              "      <div>\n",
              "<style scoped>\n",
              "    .dataframe tbody tr th:only-of-type {\n",
              "        vertical-align: middle;\n",
              "    }\n",
              "\n",
              "    .dataframe tbody tr th {\n",
              "        vertical-align: top;\n",
              "    }\n",
              "\n",
              "    .dataframe thead th {\n",
              "        text-align: right;\n",
              "    }\n",
              "</style>\n",
              "<table border=\"1\" class=\"dataframe\">\n",
              "  <thead>\n",
              "    <tr style=\"text-align: right;\">\n",
              "      <th></th>\n",
              "      <th>IP Check</th>\n",
              "      <th>At The Rate</th>\n",
              "      <th>URL Length</th>\n",
              "      <th>Single Slash</th>\n",
              "      <th>Double Slash</th>\n",
              "      <th>HTTP/HTTPS</th>\n",
              "      <th>Hyphen</th>\n",
              "      <th>Tiny URL</th>\n",
              "      <th>Class</th>\n",
              "    </tr>\n",
              "  </thead>\n",
              "  <tbody>\n",
              "    <tr>\n",
              "      <th>0</th>\n",
              "      <td>1</td>\n",
              "      <td>1</td>\n",
              "      <td>1</td>\n",
              "      <td>1</td>\n",
              "      <td>1</td>\n",
              "      <td>0</td>\n",
              "      <td>1</td>\n",
              "      <td>1</td>\n",
              "      <td>0</td>\n",
              "    </tr>\n",
              "    <tr>\n",
              "      <th>1</th>\n",
              "      <td>1</td>\n",
              "      <td>1</td>\n",
              "      <td>1</td>\n",
              "      <td>1</td>\n",
              "      <td>1</td>\n",
              "      <td>0</td>\n",
              "      <td>1</td>\n",
              "      <td>0</td>\n",
              "      <td>0</td>\n",
              "    </tr>\n",
              "    <tr>\n",
              "      <th>2</th>\n",
              "      <td>1</td>\n",
              "      <td>1</td>\n",
              "      <td>1</td>\n",
              "      <td>0</td>\n",
              "      <td>1</td>\n",
              "      <td>0</td>\n",
              "      <td>1</td>\n",
              "      <td>1</td>\n",
              "      <td>0</td>\n",
              "    </tr>\n",
              "    <tr>\n",
              "      <th>3</th>\n",
              "      <td>1</td>\n",
              "      <td>1</td>\n",
              "      <td>1</td>\n",
              "      <td>1</td>\n",
              "      <td>1</td>\n",
              "      <td>0</td>\n",
              "      <td>0</td>\n",
              "      <td>1</td>\n",
              "      <td>0</td>\n",
              "    </tr>\n",
              "    <tr>\n",
              "      <th>4</th>\n",
              "      <td>1</td>\n",
              "      <td>1</td>\n",
              "      <td>1</td>\n",
              "      <td>0</td>\n",
              "      <td>1</td>\n",
              "      <td>0</td>\n",
              "      <td>1</td>\n",
              "      <td>1</td>\n",
              "      <td>0</td>\n",
              "    </tr>\n",
              "    <tr>\n",
              "      <th>5</th>\n",
              "      <td>1</td>\n",
              "      <td>1</td>\n",
              "      <td>1</td>\n",
              "      <td>0</td>\n",
              "      <td>1</td>\n",
              "      <td>0</td>\n",
              "      <td>0</td>\n",
              "      <td>1</td>\n",
              "      <td>0</td>\n",
              "    </tr>\n",
              "    <tr>\n",
              "      <th>6</th>\n",
              "      <td>1</td>\n",
              "      <td>1</td>\n",
              "      <td>1</td>\n",
              "      <td>2</td>\n",
              "      <td>1</td>\n",
              "      <td>1</td>\n",
              "      <td>1</td>\n",
              "      <td>1</td>\n",
              "      <td>0</td>\n",
              "    </tr>\n",
              "    <tr>\n",
              "      <th>7</th>\n",
              "      <td>1</td>\n",
              "      <td>1</td>\n",
              "      <td>1</td>\n",
              "      <td>1</td>\n",
              "      <td>1</td>\n",
              "      <td>0</td>\n",
              "      <td>1</td>\n",
              "      <td>1</td>\n",
              "      <td>0</td>\n",
              "    </tr>\n",
              "    <tr>\n",
              "      <th>8</th>\n",
              "      <td>1</td>\n",
              "      <td>1</td>\n",
              "      <td>1</td>\n",
              "      <td>1</td>\n",
              "      <td>1</td>\n",
              "      <td>0</td>\n",
              "      <td>0</td>\n",
              "      <td>1</td>\n",
              "      <td>0</td>\n",
              "    </tr>\n",
              "    <tr>\n",
              "      <th>9</th>\n",
              "      <td>1</td>\n",
              "      <td>1</td>\n",
              "      <td>1</td>\n",
              "      <td>2</td>\n",
              "      <td>1</td>\n",
              "      <td>0</td>\n",
              "      <td>1</td>\n",
              "      <td>1</td>\n",
              "      <td>0</td>\n",
              "    </tr>\n",
              "    <tr>\n",
              "      <th>10</th>\n",
              "      <td>1</td>\n",
              "      <td>1</td>\n",
              "      <td>1</td>\n",
              "      <td>2</td>\n",
              "      <td>0</td>\n",
              "      <td>0</td>\n",
              "      <td>1</td>\n",
              "      <td>1</td>\n",
              "      <td>0</td>\n",
              "    </tr>\n",
              "    <tr>\n",
              "      <th>11</th>\n",
              "      <td>1</td>\n",
              "      <td>1</td>\n",
              "      <td>0</td>\n",
              "      <td>4</td>\n",
              "      <td>1</td>\n",
              "      <td>1</td>\n",
              "      <td>0</td>\n",
              "      <td>1</td>\n",
              "      <td>0</td>\n",
              "    </tr>\n",
              "    <tr>\n",
              "      <th>12</th>\n",
              "      <td>1</td>\n",
              "      <td>1</td>\n",
              "      <td>0</td>\n",
              "      <td>1</td>\n",
              "      <td>1</td>\n",
              "      <td>0</td>\n",
              "      <td>0</td>\n",
              "      <td>1</td>\n",
              "      <td>0</td>\n",
              "    </tr>\n",
              "    <tr>\n",
              "      <th>13</th>\n",
              "      <td>1</td>\n",
              "      <td>1</td>\n",
              "      <td>1</td>\n",
              "      <td>1</td>\n",
              "      <td>1</td>\n",
              "      <td>0</td>\n",
              "      <td>1</td>\n",
              "      <td>0</td>\n",
              "      <td>0</td>\n",
              "    </tr>\n",
              "    <tr>\n",
              "      <th>14</th>\n",
              "      <td>1</td>\n",
              "      <td>1</td>\n",
              "      <td>1</td>\n",
              "      <td>1</td>\n",
              "      <td>1</td>\n",
              "      <td>0</td>\n",
              "      <td>1</td>\n",
              "      <td>0</td>\n",
              "      <td>0</td>\n",
              "    </tr>\n",
              "    <tr>\n",
              "      <th>15</th>\n",
              "      <td>1</td>\n",
              "      <td>1</td>\n",
              "      <td>1</td>\n",
              "      <td>1</td>\n",
              "      <td>1</td>\n",
              "      <td>0</td>\n",
              "      <td>1</td>\n",
              "      <td>1</td>\n",
              "      <td>0</td>\n",
              "    </tr>\n",
              "    <tr>\n",
              "      <th>16</th>\n",
              "      <td>1</td>\n",
              "      <td>1</td>\n",
              "      <td>0</td>\n",
              "      <td>1</td>\n",
              "      <td>1</td>\n",
              "      <td>0</td>\n",
              "      <td>0</td>\n",
              "      <td>1</td>\n",
              "      <td>0</td>\n",
              "    </tr>\n",
              "    <tr>\n",
              "      <th>17</th>\n",
              "      <td>1</td>\n",
              "      <td>1</td>\n",
              "      <td>1</td>\n",
              "      <td>1</td>\n",
              "      <td>1</td>\n",
              "      <td>0</td>\n",
              "      <td>1</td>\n",
              "      <td>1</td>\n",
              "      <td>0</td>\n",
              "    </tr>\n",
              "    <tr>\n",
              "      <th>18</th>\n",
              "      <td>1</td>\n",
              "      <td>1</td>\n",
              "      <td>1</td>\n",
              "      <td>0</td>\n",
              "      <td>1</td>\n",
              "      <td>0</td>\n",
              "      <td>0</td>\n",
              "      <td>1</td>\n",
              "      <td>0</td>\n",
              "    </tr>\n",
              "    <tr>\n",
              "      <th>19</th>\n",
              "      <td>1</td>\n",
              "      <td>1</td>\n",
              "      <td>1</td>\n",
              "      <td>1</td>\n",
              "      <td>1</td>\n",
              "      <td>0</td>\n",
              "      <td>1</td>\n",
              "      <td>1</td>\n",
              "      <td>0</td>\n",
              "    </tr>\n",
              "  </tbody>\n",
              "</table>\n",
              "</div>\n",
              "      <button class=\"colab-df-convert\" onclick=\"convertToInteractive('df-7cb6170c-7bd5-48bd-a025-387455df95c6')\"\n",
              "              title=\"Convert this dataframe to an interactive table.\"\n",
              "              style=\"display:none;\">\n",
              "        \n",
              "  <svg xmlns=\"http://www.w3.org/2000/svg\" height=\"24px\"viewBox=\"0 0 24 24\"\n",
              "       width=\"24px\">\n",
              "    <path d=\"M0 0h24v24H0V0z\" fill=\"none\"/>\n",
              "    <path d=\"M18.56 5.44l.94 2.06.94-2.06 2.06-.94-2.06-.94-.94-2.06-.94 2.06-2.06.94zm-11 1L8.5 8.5l.94-2.06 2.06-.94-2.06-.94L8.5 2.5l-.94 2.06-2.06.94zm10 10l.94 2.06.94-2.06 2.06-.94-2.06-.94-.94-2.06-.94 2.06-2.06.94z\"/><path d=\"M17.41 7.96l-1.37-1.37c-.4-.4-.92-.59-1.43-.59-.52 0-1.04.2-1.43.59L10.3 9.45l-7.72 7.72c-.78.78-.78 2.05 0 2.83L4 21.41c.39.39.9.59 1.41.59.51 0 1.02-.2 1.41-.59l7.78-7.78 2.81-2.81c.8-.78.8-2.07 0-2.86zM5.41 20L4 18.59l7.72-7.72 1.47 1.35L5.41 20z\"/>\n",
              "  </svg>\n",
              "      </button>\n",
              "      \n",
              "  <style>\n",
              "    .colab-df-container {\n",
              "      display:flex;\n",
              "      flex-wrap:wrap;\n",
              "      gap: 12px;\n",
              "    }\n",
              "\n",
              "    .colab-df-convert {\n",
              "      background-color: #E8F0FE;\n",
              "      border: none;\n",
              "      border-radius: 50%;\n",
              "      cursor: pointer;\n",
              "      display: none;\n",
              "      fill: #1967D2;\n",
              "      height: 32px;\n",
              "      padding: 0 0 0 0;\n",
              "      width: 32px;\n",
              "    }\n",
              "\n",
              "    .colab-df-convert:hover {\n",
              "      background-color: #E2EBFA;\n",
              "      box-shadow: 0px 1px 2px rgba(60, 64, 67, 0.3), 0px 1px 3px 1px rgba(60, 64, 67, 0.15);\n",
              "      fill: #174EA6;\n",
              "    }\n",
              "\n",
              "    [theme=dark] .colab-df-convert {\n",
              "      background-color: #3B4455;\n",
              "      fill: #D2E3FC;\n",
              "    }\n",
              "\n",
              "    [theme=dark] .colab-df-convert:hover {\n",
              "      background-color: #434B5C;\n",
              "      box-shadow: 0px 1px 3px 1px rgba(0, 0, 0, 0.15);\n",
              "      filter: drop-shadow(0px 1px 2px rgba(0, 0, 0, 0.3));\n",
              "      fill: #FFFFFF;\n",
              "    }\n",
              "  </style>\n",
              "\n",
              "      <script>\n",
              "        const buttonEl =\n",
              "          document.querySelector('#df-7cb6170c-7bd5-48bd-a025-387455df95c6 button.colab-df-convert');\n",
              "        buttonEl.style.display =\n",
              "          google.colab.kernel.accessAllowed ? 'block' : 'none';\n",
              "\n",
              "        async function convertToInteractive(key) {\n",
              "          const element = document.querySelector('#df-7cb6170c-7bd5-48bd-a025-387455df95c6');\n",
              "          const dataTable =\n",
              "            await google.colab.kernel.invokeFunction('convertToInteractive',\n",
              "                                                     [key], {});\n",
              "          if (!dataTable) return;\n",
              "\n",
              "          const docLinkHtml = 'Like what you see? Visit the ' +\n",
              "            '<a target=\"_blank\" href=https://colab.research.google.com/notebooks/data_table.ipynb>data table notebook</a>'\n",
              "            + ' to learn more about interactive tables.';\n",
              "          element.innerHTML = '';\n",
              "          dataTable['output_type'] = 'display_data';\n",
              "          await google.colab.output.renderOutput(dataTable, element);\n",
              "          const docLink = document.createElement('div');\n",
              "          docLink.innerHTML = docLinkHtml;\n",
              "          element.appendChild(docLink);\n",
              "        }\n",
              "      </script>\n",
              "    </div>\n",
              "  </div>\n",
              "  "
            ]
          },
          "metadata": {},
          "execution_count": 19
        }
      ],
      "source": [
        "features_df.head(20)"
      ]
    },
    {
      "cell_type": "code",
      "execution_count": null,
      "metadata": {
        "colab": {
          "base_uri": "https://localhost:8080/",
          "height": 676
        },
        "id": "iGMomT6UJhcY",
        "outputId": "8e5dfb4e-f6d3-48cc-f0e8-a8d948c4c9f1"
      },
      "outputs": [
        {
          "output_type": "execute_result",
          "data": {
            "text/plain": [
              "       IP Check  At The Rate  URL Length  Single Slash  Double Slash  \\\n",
              "21561         1            1           0             5             1   \n",
              "21562         1            1           0             3             1   \n",
              "21563         1            1           0             3             1   \n",
              "21564         1            1           0             3             1   \n",
              "21565         1            1           0             3             1   \n",
              "21566         1            1           0             3             1   \n",
              "21567         1            1           0             2             1   \n",
              "21568         1            1           0             2             1   \n",
              "21569         1            1           0             3             1   \n",
              "21570         1            1           0             4             1   \n",
              "21571         1            1           0             4             1   \n",
              "21572         1            1           0             4             1   \n",
              "21573         1            1           0             4             1   \n",
              "21574         1            1           0             4             1   \n",
              "21575         1            1           0             4             1   \n",
              "21576         1            1           0             2             1   \n",
              "21577         1            1           0             4             1   \n",
              "21578         1            1           0             4             1   \n",
              "21579         1            1           0             4             1   \n",
              "21580         1            1           0             4             1   \n",
              "\n",
              "       HTTP/HTTPS  Hyphen   Tiny URL  Class  \n",
              "21561           1        1         1      1  \n",
              "21562           1        1         1      1  \n",
              "21563           1        1         1      1  \n",
              "21564           1        1         1      1  \n",
              "21565           1        1         1      1  \n",
              "21566           1        1         1      1  \n",
              "21567           1        1         1      1  \n",
              "21568           1        1         1      1  \n",
              "21569           1        1         1      1  \n",
              "21570           1        1         1      1  \n",
              "21571           1        1         1      1  \n",
              "21572           1        1         1      1  \n",
              "21573           1        1         1      1  \n",
              "21574           1        1         1      1  \n",
              "21575           1        1         1      1  \n",
              "21576           1        1         1      1  \n",
              "21577           1        1         1      1  \n",
              "21578           1        1         1      1  \n",
              "21579           1        1         1      1  \n",
              "21580           1        1         1      1  "
            ],
            "text/html": [
              "\n",
              "  <div id=\"df-b1ee83dd-f9d7-456e-8e7f-e910024ef9fe\">\n",
              "    <div class=\"colab-df-container\">\n",
              "      <div>\n",
              "<style scoped>\n",
              "    .dataframe tbody tr th:only-of-type {\n",
              "        vertical-align: middle;\n",
              "    }\n",
              "\n",
              "    .dataframe tbody tr th {\n",
              "        vertical-align: top;\n",
              "    }\n",
              "\n",
              "    .dataframe thead th {\n",
              "        text-align: right;\n",
              "    }\n",
              "</style>\n",
              "<table border=\"1\" class=\"dataframe\">\n",
              "  <thead>\n",
              "    <tr style=\"text-align: right;\">\n",
              "      <th></th>\n",
              "      <th>IP Check</th>\n",
              "      <th>At The Rate</th>\n",
              "      <th>URL Length</th>\n",
              "      <th>Single Slash</th>\n",
              "      <th>Double Slash</th>\n",
              "      <th>HTTP/HTTPS</th>\n",
              "      <th>Hyphen</th>\n",
              "      <th>Tiny URL</th>\n",
              "      <th>Class</th>\n",
              "    </tr>\n",
              "  </thead>\n",
              "  <tbody>\n",
              "    <tr>\n",
              "      <th>21561</th>\n",
              "      <td>1</td>\n",
              "      <td>1</td>\n",
              "      <td>0</td>\n",
              "      <td>5</td>\n",
              "      <td>1</td>\n",
              "      <td>1</td>\n",
              "      <td>1</td>\n",
              "      <td>1</td>\n",
              "      <td>1</td>\n",
              "    </tr>\n",
              "    <tr>\n",
              "      <th>21562</th>\n",
              "      <td>1</td>\n",
              "      <td>1</td>\n",
              "      <td>0</td>\n",
              "      <td>3</td>\n",
              "      <td>1</td>\n",
              "      <td>1</td>\n",
              "      <td>1</td>\n",
              "      <td>1</td>\n",
              "      <td>1</td>\n",
              "    </tr>\n",
              "    <tr>\n",
              "      <th>21563</th>\n",
              "      <td>1</td>\n",
              "      <td>1</td>\n",
              "      <td>0</td>\n",
              "      <td>3</td>\n",
              "      <td>1</td>\n",
              "      <td>1</td>\n",
              "      <td>1</td>\n",
              "      <td>1</td>\n",
              "      <td>1</td>\n",
              "    </tr>\n",
              "    <tr>\n",
              "      <th>21564</th>\n",
              "      <td>1</td>\n",
              "      <td>1</td>\n",
              "      <td>0</td>\n",
              "      <td>3</td>\n",
              "      <td>1</td>\n",
              "      <td>1</td>\n",
              "      <td>1</td>\n",
              "      <td>1</td>\n",
              "      <td>1</td>\n",
              "    </tr>\n",
              "    <tr>\n",
              "      <th>21565</th>\n",
              "      <td>1</td>\n",
              "      <td>1</td>\n",
              "      <td>0</td>\n",
              "      <td>3</td>\n",
              "      <td>1</td>\n",
              "      <td>1</td>\n",
              "      <td>1</td>\n",
              "      <td>1</td>\n",
              "      <td>1</td>\n",
              "    </tr>\n",
              "    <tr>\n",
              "      <th>21566</th>\n",
              "      <td>1</td>\n",
              "      <td>1</td>\n",
              "      <td>0</td>\n",
              "      <td>3</td>\n",
              "      <td>1</td>\n",
              "      <td>1</td>\n",
              "      <td>1</td>\n",
              "      <td>1</td>\n",
              "      <td>1</td>\n",
              "    </tr>\n",
              "    <tr>\n",
              "      <th>21567</th>\n",
              "      <td>1</td>\n",
              "      <td>1</td>\n",
              "      <td>0</td>\n",
              "      <td>2</td>\n",
              "      <td>1</td>\n",
              "      <td>1</td>\n",
              "      <td>1</td>\n",
              "      <td>1</td>\n",
              "      <td>1</td>\n",
              "    </tr>\n",
              "    <tr>\n",
              "      <th>21568</th>\n",
              "      <td>1</td>\n",
              "      <td>1</td>\n",
              "      <td>0</td>\n",
              "      <td>2</td>\n",
              "      <td>1</td>\n",
              "      <td>1</td>\n",
              "      <td>1</td>\n",
              "      <td>1</td>\n",
              "      <td>1</td>\n",
              "    </tr>\n",
              "    <tr>\n",
              "      <th>21569</th>\n",
              "      <td>1</td>\n",
              "      <td>1</td>\n",
              "      <td>0</td>\n",
              "      <td>3</td>\n",
              "      <td>1</td>\n",
              "      <td>1</td>\n",
              "      <td>1</td>\n",
              "      <td>1</td>\n",
              "      <td>1</td>\n",
              "    </tr>\n",
              "    <tr>\n",
              "      <th>21570</th>\n",
              "      <td>1</td>\n",
              "      <td>1</td>\n",
              "      <td>0</td>\n",
              "      <td>4</td>\n",
              "      <td>1</td>\n",
              "      <td>1</td>\n",
              "      <td>1</td>\n",
              "      <td>1</td>\n",
              "      <td>1</td>\n",
              "    </tr>\n",
              "    <tr>\n",
              "      <th>21571</th>\n",
              "      <td>1</td>\n",
              "      <td>1</td>\n",
              "      <td>0</td>\n",
              "      <td>4</td>\n",
              "      <td>1</td>\n",
              "      <td>1</td>\n",
              "      <td>1</td>\n",
              "      <td>1</td>\n",
              "      <td>1</td>\n",
              "    </tr>\n",
              "    <tr>\n",
              "      <th>21572</th>\n",
              "      <td>1</td>\n",
              "      <td>1</td>\n",
              "      <td>0</td>\n",
              "      <td>4</td>\n",
              "      <td>1</td>\n",
              "      <td>1</td>\n",
              "      <td>1</td>\n",
              "      <td>1</td>\n",
              "      <td>1</td>\n",
              "    </tr>\n",
              "    <tr>\n",
              "      <th>21573</th>\n",
              "      <td>1</td>\n",
              "      <td>1</td>\n",
              "      <td>0</td>\n",
              "      <td>4</td>\n",
              "      <td>1</td>\n",
              "      <td>1</td>\n",
              "      <td>1</td>\n",
              "      <td>1</td>\n",
              "      <td>1</td>\n",
              "    </tr>\n",
              "    <tr>\n",
              "      <th>21574</th>\n",
              "      <td>1</td>\n",
              "      <td>1</td>\n",
              "      <td>0</td>\n",
              "      <td>4</td>\n",
              "      <td>1</td>\n",
              "      <td>1</td>\n",
              "      <td>1</td>\n",
              "      <td>1</td>\n",
              "      <td>1</td>\n",
              "    </tr>\n",
              "    <tr>\n",
              "      <th>21575</th>\n",
              "      <td>1</td>\n",
              "      <td>1</td>\n",
              "      <td>0</td>\n",
              "      <td>4</td>\n",
              "      <td>1</td>\n",
              "      <td>1</td>\n",
              "      <td>1</td>\n",
              "      <td>1</td>\n",
              "      <td>1</td>\n",
              "    </tr>\n",
              "    <tr>\n",
              "      <th>21576</th>\n",
              "      <td>1</td>\n",
              "      <td>1</td>\n",
              "      <td>0</td>\n",
              "      <td>2</td>\n",
              "      <td>1</td>\n",
              "      <td>1</td>\n",
              "      <td>1</td>\n",
              "      <td>1</td>\n",
              "      <td>1</td>\n",
              "    </tr>\n",
              "    <tr>\n",
              "      <th>21577</th>\n",
              "      <td>1</td>\n",
              "      <td>1</td>\n",
              "      <td>0</td>\n",
              "      <td>4</td>\n",
              "      <td>1</td>\n",
              "      <td>1</td>\n",
              "      <td>1</td>\n",
              "      <td>1</td>\n",
              "      <td>1</td>\n",
              "    </tr>\n",
              "    <tr>\n",
              "      <th>21578</th>\n",
              "      <td>1</td>\n",
              "      <td>1</td>\n",
              "      <td>0</td>\n",
              "      <td>4</td>\n",
              "      <td>1</td>\n",
              "      <td>1</td>\n",
              "      <td>1</td>\n",
              "      <td>1</td>\n",
              "      <td>1</td>\n",
              "    </tr>\n",
              "    <tr>\n",
              "      <th>21579</th>\n",
              "      <td>1</td>\n",
              "      <td>1</td>\n",
              "      <td>0</td>\n",
              "      <td>4</td>\n",
              "      <td>1</td>\n",
              "      <td>1</td>\n",
              "      <td>1</td>\n",
              "      <td>1</td>\n",
              "      <td>1</td>\n",
              "    </tr>\n",
              "    <tr>\n",
              "      <th>21580</th>\n",
              "      <td>1</td>\n",
              "      <td>1</td>\n",
              "      <td>0</td>\n",
              "      <td>4</td>\n",
              "      <td>1</td>\n",
              "      <td>1</td>\n",
              "      <td>1</td>\n",
              "      <td>1</td>\n",
              "      <td>1</td>\n",
              "    </tr>\n",
              "  </tbody>\n",
              "</table>\n",
              "</div>\n",
              "      <button class=\"colab-df-convert\" onclick=\"convertToInteractive('df-b1ee83dd-f9d7-456e-8e7f-e910024ef9fe')\"\n",
              "              title=\"Convert this dataframe to an interactive table.\"\n",
              "              style=\"display:none;\">\n",
              "        \n",
              "  <svg xmlns=\"http://www.w3.org/2000/svg\" height=\"24px\"viewBox=\"0 0 24 24\"\n",
              "       width=\"24px\">\n",
              "    <path d=\"M0 0h24v24H0V0z\" fill=\"none\"/>\n",
              "    <path d=\"M18.56 5.44l.94 2.06.94-2.06 2.06-.94-2.06-.94-.94-2.06-.94 2.06-2.06.94zm-11 1L8.5 8.5l.94-2.06 2.06-.94-2.06-.94L8.5 2.5l-.94 2.06-2.06.94zm10 10l.94 2.06.94-2.06 2.06-.94-2.06-.94-.94-2.06-.94 2.06-2.06.94z\"/><path d=\"M17.41 7.96l-1.37-1.37c-.4-.4-.92-.59-1.43-.59-.52 0-1.04.2-1.43.59L10.3 9.45l-7.72 7.72c-.78.78-.78 2.05 0 2.83L4 21.41c.39.39.9.59 1.41.59.51 0 1.02-.2 1.41-.59l7.78-7.78 2.81-2.81c.8-.78.8-2.07 0-2.86zM5.41 20L4 18.59l7.72-7.72 1.47 1.35L5.41 20z\"/>\n",
              "  </svg>\n",
              "      </button>\n",
              "      \n",
              "  <style>\n",
              "    .colab-df-container {\n",
              "      display:flex;\n",
              "      flex-wrap:wrap;\n",
              "      gap: 12px;\n",
              "    }\n",
              "\n",
              "    .colab-df-convert {\n",
              "      background-color: #E8F0FE;\n",
              "      border: none;\n",
              "      border-radius: 50%;\n",
              "      cursor: pointer;\n",
              "      display: none;\n",
              "      fill: #1967D2;\n",
              "      height: 32px;\n",
              "      padding: 0 0 0 0;\n",
              "      width: 32px;\n",
              "    }\n",
              "\n",
              "    .colab-df-convert:hover {\n",
              "      background-color: #E2EBFA;\n",
              "      box-shadow: 0px 1px 2px rgba(60, 64, 67, 0.3), 0px 1px 3px 1px rgba(60, 64, 67, 0.15);\n",
              "      fill: #174EA6;\n",
              "    }\n",
              "\n",
              "    [theme=dark] .colab-df-convert {\n",
              "      background-color: #3B4455;\n",
              "      fill: #D2E3FC;\n",
              "    }\n",
              "\n",
              "    [theme=dark] .colab-df-convert:hover {\n",
              "      background-color: #434B5C;\n",
              "      box-shadow: 0px 1px 3px 1px rgba(0, 0, 0, 0.15);\n",
              "      filter: drop-shadow(0px 1px 2px rgba(0, 0, 0, 0.3));\n",
              "      fill: #FFFFFF;\n",
              "    }\n",
              "  </style>\n",
              "\n",
              "      <script>\n",
              "        const buttonEl =\n",
              "          document.querySelector('#df-b1ee83dd-f9d7-456e-8e7f-e910024ef9fe button.colab-df-convert');\n",
              "        buttonEl.style.display =\n",
              "          google.colab.kernel.accessAllowed ? 'block' : 'none';\n",
              "\n",
              "        async function convertToInteractive(key) {\n",
              "          const element = document.querySelector('#df-b1ee83dd-f9d7-456e-8e7f-e910024ef9fe');\n",
              "          const dataTable =\n",
              "            await google.colab.kernel.invokeFunction('convertToInteractive',\n",
              "                                                     [key], {});\n",
              "          if (!dataTable) return;\n",
              "\n",
              "          const docLinkHtml = 'Like what you see? Visit the ' +\n",
              "            '<a target=\"_blank\" href=https://colab.research.google.com/notebooks/data_table.ipynb>data table notebook</a>'\n",
              "            + ' to learn more about interactive tables.';\n",
              "          element.innerHTML = '';\n",
              "          dataTable['output_type'] = 'display_data';\n",
              "          await google.colab.output.renderOutput(dataTable, element);\n",
              "          const docLink = document.createElement('div');\n",
              "          docLink.innerHTML = docLinkHtml;\n",
              "          element.appendChild(docLink);\n",
              "        }\n",
              "      </script>\n",
              "    </div>\n",
              "  </div>\n",
              "  "
            ]
          },
          "metadata": {},
          "execution_count": 20
        }
      ],
      "source": [
        "features_df.tail(20)"
      ]
    },
    {
      "cell_type": "code",
      "execution_count": null,
      "metadata": {
        "colab": {
          "base_uri": "https://localhost:8080/"
        },
        "id": "dYfU5tvWJkGm",
        "outputId": "bdad101f-7f38-4b53-a04f-b6b6423a2a12"
      },
      "outputs": [
        {
          "output_type": "execute_result",
          "data": {
            "text/plain": [
              "(21581, 9)"
            ]
          },
          "metadata": {},
          "execution_count": 21
        }
      ],
      "source": [
        "features_df.shape"
      ]
    },
    {
      "cell_type": "markdown",
      "metadata": {
        "id": "hJnhYRI1JmRg"
      },
      "source": [
        "# **Building the ANN model**"
      ]
    },
    {
      "cell_type": "code",
      "execution_count": null,
      "metadata": {
        "id": "Gr0EG0Tcvwdp"
      },
      "outputs": [],
      "source": [
        "X=features_df.iloc[:,0:8].values\n",
        "y=features_df.iloc[:,8].values"
      ]
    },
    {
      "cell_type": "code",
      "execution_count": null,
      "metadata": {
        "id": "-00aUQIuvwWu"
      },
      "outputs": [],
      "source": [
        "from sklearn.model_selection import train_test_split\n",
        "X_train, X_test, y_train, y_test = train_test_split(X, y, test_size=0.2, random_state=np.random.seed(10))"
      ]
    },
    {
      "cell_type": "code",
      "execution_count": null,
      "metadata": {
        "colab": {
          "base_uri": "https://localhost:8080/"
        },
        "id": "Zci9GG0K8H0u",
        "outputId": "8df17639-e747-4e22-839e-354b069dce3b"
      },
      "outputs": [
        {
          "output_type": "execute_result",
          "data": {
            "text/plain": [
              "(17264, 8)"
            ]
          },
          "metadata": {},
          "execution_count": 24
        }
      ],
      "source": [
        "X_train.shape"
      ]
    },
    {
      "cell_type": "code",
      "execution_count": null,
      "metadata": {
        "colab": {
          "base_uri": "https://localhost:8080/"
        },
        "id": "oNGxigHiwa2W",
        "outputId": "fb2f4225-b4f5-48c5-e5e1-53831cb2a231"
      },
      "outputs": [
        {
          "output_type": "execute_result",
          "data": {
            "text/plain": [
              "(17264,)"
            ]
          },
          "metadata": {},
          "execution_count": 25
        }
      ],
      "source": [
        "y_train.shape"
      ]
    },
    {
      "cell_type": "code",
      "execution_count": null,
      "metadata": {
        "id": "5ktr7gqxv2--"
      },
      "outputs": [],
      "source": [
        "!pip install -q keras"
      ]
    },
    {
      "cell_type": "code",
      "execution_count": null,
      "metadata": {
        "id": "w9NdI7b3v27Z"
      },
      "outputs": [],
      "source": [
        "#import all the necessary libraries\n",
        "import keras\n",
        "from keras.preprocessing.image import ImageDataGenerator\n",
        "from keras.callbacks import ModelCheckpoint\n",
        "import matplotlib.pyplot as plt"
      ]
    },
    {
      "cell_type": "code",
      "execution_count": null,
      "metadata": {
        "id": "QGc21BkXv241"
      },
      "outputs": [],
      "source": [
        "from tensorflow.keras.optimizers import Adam"
      ]
    },
    {
      "cell_type": "code",
      "execution_count": null,
      "metadata": {
        "id": "Zw2HZ5Pgv22S"
      },
      "outputs": [],
      "source": [
        "from keras.models import Sequential\n",
        "from keras.layers import Dense\n",
        "from keras.optimizers import *"
      ]
    },
    {
      "cell_type": "code",
      "execution_count": null,
      "metadata": {
        "id": "dkFHt11yv2zn"
      },
      "outputs": [],
      "source": [
        "# Build the ANN Model\n",
        "model = Sequential()\n",
        "\n",
        "model.add(Dense(50, activation='relu',kernel_initializer='uniform',input_dim=X.shape[1]))\n",
        "model.add(Dense(50, activation='relu',kernel_initializer='uniform'))\n",
        "model.add(Dense(30, activation='relu',kernel_initializer='uniform'))\n",
        "model.add(Dense(1,  activation='sigmoid', kernel_initializer='uniform'))\n",
        "\n",
        "model.compile(loss='binary_crossentropy', optimizer=Adam(), metrics=['accuracy'])"
      ]
    },
    {
      "cell_type": "code",
      "execution_count": null,
      "metadata": {
        "colab": {
          "base_uri": "https://localhost:8080/"
        },
        "id": "ws2UyCoswFZJ",
        "outputId": "c33be34a-abec-499a-ff05-2dff38100a1f"
      },
      "outputs": [
        {
          "output_type": "stream",
          "name": "stdout",
          "text": [
            "Model: \"sequential\"\n",
            "_________________________________________________________________\n",
            " Layer (type)                Output Shape              Param #   \n",
            "=================================================================\n",
            " dense (Dense)               (None, 50)                450       \n",
            "                                                                 \n",
            " dense_1 (Dense)             (None, 50)                2550      \n",
            "                                                                 \n",
            " dense_2 (Dense)             (None, 30)                1530      \n",
            "                                                                 \n",
            " dense_3 (Dense)             (None, 1)                 31        \n",
            "                                                                 \n",
            "=================================================================\n",
            "Total params: 4,561\n",
            "Trainable params: 4,561\n",
            "Non-trainable params: 0\n",
            "_________________________________________________________________\n"
          ]
        }
      ],
      "source": [
        "#Summary of ANN Model\n",
        "model.summary()"
      ]
    },
    {
      "cell_type": "code",
      "execution_count": null,
      "metadata": {
        "colab": {
          "base_uri": "https://localhost:8080/"
        },
        "id": "zIksp8IcwE9S",
        "outputId": "a937d9ce-4666-4082-bef0-14c9e296e67e"
      },
      "outputs": [
        {
          "output_type": "stream",
          "name": "stderr",
          "text": [
            "/usr/local/lib/python3.7/dist-packages/keras/optimizer_v2/adam.py:105: UserWarning: The `lr` argument is deprecated, use `learning_rate` instead.\n",
            "  super(Adam, self).__init__(name, **kwargs)\n"
          ]
        }
      ],
      "source": [
        "model.compile(optimizer = Adam(lr=0.0001), loss='binary_crossentropy', metrics=['accuracy'])"
      ]
    },
    {
      "cell_type": "code",
      "execution_count": null,
      "metadata": {
        "id": "3cOgo-UCwFm2"
      },
      "outputs": [],
      "source": [
        "from keras import callbacks\n",
        "\n",
        "es_cb = callbacks.EarlyStopping(monitor='loss', min_delta=0.001, patience=5)"
      ]
    },
    {
      "cell_type": "code",
      "execution_count": null,
      "metadata": {
        "colab": {
          "base_uri": "https://localhost:8080/"
        },
        "id": "rJ4iw6pewPZw",
        "outputId": "6ce47d43-8694-49d8-c49b-7d2a647957db"
      },
      "outputs": [
        {
          "output_type": "stream",
          "name": "stdout",
          "text": [
            "Epoch 1/30\n",
            "432/432 [==============================] - 2s 3ms/step - loss: 0.6508 - accuracy: 0.7490 - val_loss: 0.5266 - val_accuracy: 0.8335\n",
            "Epoch 2/30\n",
            "432/432 [==============================] - 1s 3ms/step - loss: 0.4003 - accuracy: 0.8665 - val_loss: 0.3137 - val_accuracy: 0.8966\n",
            "Epoch 3/30\n",
            "432/432 [==============================] - 1s 3ms/step - loss: 0.2972 - accuracy: 0.8959 - val_loss: 0.2814 - val_accuracy: 0.8972\n",
            "Epoch 4/30\n",
            "432/432 [==============================] - 1s 3ms/step - loss: 0.2832 - accuracy: 0.8979 - val_loss: 0.2761 - val_accuracy: 0.9067\n",
            "Epoch 5/30\n",
            "432/432 [==============================] - 1s 2ms/step - loss: 0.2789 - accuracy: 0.9015 - val_loss: 0.2687 - val_accuracy: 0.9062\n",
            "Epoch 6/30\n",
            "432/432 [==============================] - 2s 5ms/step - loss: 0.2744 - accuracy: 0.9017 - val_loss: 0.2660 - val_accuracy: 0.9067\n",
            "Epoch 7/30\n",
            "432/432 [==============================] - 3s 6ms/step - loss: 0.2724 - accuracy: 0.9024 - val_loss: 0.2643 - val_accuracy: 0.9067\n",
            "Epoch 8/30\n",
            "432/432 [==============================] - 2s 5ms/step - loss: 0.2706 - accuracy: 0.9024 - val_loss: 0.2631 - val_accuracy: 0.9067\n",
            "Epoch 9/30\n",
            "432/432 [==============================] - 2s 5ms/step - loss: 0.2691 - accuracy: 0.9024 - val_loss: 0.2606 - val_accuracy: 0.9067\n",
            "Epoch 10/30\n",
            "432/432 [==============================] - 2s 5ms/step - loss: 0.2679 - accuracy: 0.9025 - val_loss: 0.2598 - val_accuracy: 0.9067\n",
            "Epoch 11/30\n",
            "432/432 [==============================] - 3s 6ms/step - loss: 0.2670 - accuracy: 0.9023 - val_loss: 0.2609 - val_accuracy: 0.9067\n",
            "Epoch 12/30\n",
            "432/432 [==============================] - 3s 7ms/step - loss: 0.2663 - accuracy: 0.9023 - val_loss: 0.2587 - val_accuracy: 0.9067\n",
            "Epoch 13/30\n",
            "432/432 [==============================] - 2s 5ms/step - loss: 0.2655 - accuracy: 0.9025 - val_loss: 0.2586 - val_accuracy: 0.9065\n",
            "Epoch 14/30\n",
            "432/432 [==============================] - 3s 6ms/step - loss: 0.2648 - accuracy: 0.9027 - val_loss: 0.2577 - val_accuracy: 0.9067\n",
            "Epoch 15/30\n",
            "432/432 [==============================] - 3s 6ms/step - loss: 0.2644 - accuracy: 0.9028 - val_loss: 0.2567 - val_accuracy: 0.9067\n",
            "Epoch 16/30\n",
            "432/432 [==============================] - 2s 5ms/step - loss: 0.2636 - accuracy: 0.9033 - val_loss: 0.2564 - val_accuracy: 0.9067\n",
            "Epoch 17/30\n",
            "432/432 [==============================] - 2s 5ms/step - loss: 0.2628 - accuracy: 0.9042 - val_loss: 0.2583 - val_accuracy: 0.9108\n",
            "Epoch 18/30\n",
            "432/432 [==============================] - 2s 4ms/step - loss: 0.2625 - accuracy: 0.9054 - val_loss: 0.2569 - val_accuracy: 0.9108\n",
            "Epoch 19/30\n",
            "432/432 [==============================] - 2s 4ms/step - loss: 0.2624 - accuracy: 0.9057 - val_loss: 0.2559 - val_accuracy: 0.9105\n",
            "Epoch 20/30\n",
            "432/432 [==============================] - 2s 5ms/step - loss: 0.2624 - accuracy: 0.9066 - val_loss: 0.2557 - val_accuracy: 0.9120\n",
            "Epoch 21/30\n",
            "432/432 [==============================] - 2s 6ms/step - loss: 0.2617 - accuracy: 0.9069 - val_loss: 0.2561 - val_accuracy: 0.9120\n",
            "Epoch 22/30\n",
            "432/432 [==============================] - 1s 3ms/step - loss: 0.2613 - accuracy: 0.9071 - val_loss: 0.2549 - val_accuracy: 0.9120\n",
            "Epoch 23/30\n",
            "432/432 [==============================] - 1s 2ms/step - loss: 0.2610 - accuracy: 0.9072 - val_loss: 0.2560 - val_accuracy: 0.9120\n",
            "Epoch 24/30\n",
            "432/432 [==============================] - 1s 2ms/step - loss: 0.2608 - accuracy: 0.9075 - val_loss: 0.2582 - val_accuracy: 0.9120\n",
            "Epoch 25/30\n",
            "432/432 [==============================] - 1s 2ms/step - loss: 0.2610 - accuracy: 0.9075 - val_loss: 0.2544 - val_accuracy: 0.9120\n",
            "Epoch 26/30\n",
            "432/432 [==============================] - 1s 2ms/step - loss: 0.2600 - accuracy: 0.9077 - val_loss: 0.2543 - val_accuracy: 0.9120\n",
            "Epoch 27/30\n",
            "432/432 [==============================] - 1s 2ms/step - loss: 0.2600 - accuracy: 0.9076 - val_loss: 0.2543 - val_accuracy: 0.9120\n",
            "Epoch 28/30\n",
            "432/432 [==============================] - 1s 2ms/step - loss: 0.2598 - accuracy: 0.9077 - val_loss: 0.2565 - val_accuracy: 0.9125\n",
            "Epoch 29/30\n",
            "432/432 [==============================] - 1s 2ms/step - loss: 0.2597 - accuracy: 0.9075 - val_loss: 0.2539 - val_accuracy: 0.9120\n",
            "Epoch 30/30\n",
            "432/432 [==============================] - 1s 2ms/step - loss: 0.2600 - accuracy: 0.9079 - val_loss: 0.2542 - val_accuracy: 0.9120\n",
            "135/135 [==============================] - 0s 1ms/step - loss: 0.2741 - accuracy: 0.9039\n",
            "\n",
            "Accuracy score of the Neural Network with basic hyperparameter settings 90.39%\n"
          ]
        }
      ],
      "source": [
        "history = model.fit(X_train, y_train, batch_size=32, epochs=30, verbose=1, callbacks=[es_cb],validation_split=0.2)\n",
        "\n",
        "scores = model.evaluate(X_test, y_test)\n",
        "print('\\nAccuracy score of the Neural Network with basic hyperparameter settings {0:.2f}%'.format(scores[1]*100))"
      ]
    },
    {
      "cell_type": "code",
      "execution_count": null,
      "metadata": {
        "colab": {
          "base_uri": "https://localhost:8080/",
          "height": 545
        },
        "id": "dgc6JIIW5-kv",
        "outputId": "b34b3373-5ac9-44a4-d671-14f08b3d78ef"
      },
      "outputs": [
        {
          "output_type": "display_data",
          "data": {
            "text/plain": [
              "<Figure size 432x288 with 1 Axes>"
            ],
            "image/png": "[encoded data removed]"
          },
          "metadata": {
            "needs_background": "light"
          }
        },
        {
          "output_type": "display_data",
          "data": {
            "text/plain": [
              "<Figure size 432x288 with 1 Axes>"
            ],
            "image/png": "[encoded data removed]"
          },
          "metadata": {
            "needs_background": "light"
          }
        }
      ],
      "source": [
        "acc = history.history['accuracy']\n",
        "val_acc = history.history['val_accuracy']\n",
        "loss = history.history['loss']\n",
        "val_loss = history.history['val_loss']\n",
        "epochs = range(len(acc))\n",
        "plt.plot(epochs, acc, '-', color='orange', label='training acc')\n",
        "plt.plot(epochs, val_acc, '-', color='blue', label='validation acc')\n",
        "plt.title('Training and validation accuracy')\n",
        "plt.legend()\n",
        "plt.show()\n",
        "\n",
        "plt.plot(epochs, loss, '-', color='orange', label='training loss')\n",
        "plt.plot(epochs, val_loss,  '-', color='blue', label='validation loss')\n",
        "plt.title('Training and validation loss')\n",
        "plt.legend()\n",
        "plt.show()"
      ]
    },
    {
      "cell_type": "code",
      "execution_count": null,
      "metadata": {
        "id": "-bxdV321NzMc"
      },
      "outputs": [],
      "source": [
        "model.save('model_ann.h5')"
      ]
    },
    {
      "cell_type": "code",
      "execution_count": null,
      "metadata": {
        "id": "an7AOAHANVhV"
      },
      "outputs": [],
      "source": [
        "prediction=model.predict(X_test)\n",
        "pred = np.array([1 if i >= 0.5 else 0 for i in prediction])"
      ]
    },
    {
      "cell_type": "code",
      "execution_count": null,
      "metadata": {
        "colab": {
          "base_uri": "https://localhost:8080/"
        },
        "id": "H7v5N-sI-1vu",
        "outputId": "229852f2-6404-41b1-9656-307dfc0f01ac"
      },
      "outputs": [
        {
          "output_type": "stream",
          "name": "stdout",
          "text": [
            "90.38684271484827\n"
          ]
        }
      ],
      "source": [
        "accuracy_score=accuracy_score(y_test,pred)*100\n",
        "\n",
        "print(accuracy_score)"
      ]
    },
    {
      "cell_type": "code",
      "execution_count": null,
      "metadata": {
        "colab": {
          "base_uri": "https://localhost:8080/"
        },
        "id": "QCRF8SSH672Z",
        "outputId": "7739fb55-1aa7-41d7-d99f-1d36a647c96f"
      },
      "outputs": [
        {
          "output_type": "stream",
          "name": "stdout",
          "text": [
            "Precision Score of the classifier is: 87.80804150453956\n"
          ]
        }
      ],
      "source": [
        "# Importing all necessary libraries\n",
        "from sklearn.metrics import precision_score\n",
        "\n",
        "# Calculating the precision score of classifier\n",
        "print(f\"Precision Score of the classifier is: {precision_score(y_test, pred)*100}\")"
      ]
    },
    {
      "cell_type": "code",
      "execution_count": null,
      "metadata": {
        "colab": {
          "base_uri": "https://localhost:8080/"
        },
        "id": "ZkEmqtx37BrX",
        "outputId": "736fef39-68b2-450e-f011-d6234c20e5ed"
      },
      "outputs": [
        {
          "output_type": "stream",
          "name": "stdout",
          "text": [
            "Recall Score of the classifier is: 93.8539741219963\n"
          ]
        }
      ],
      "source": [
        "# Importing all necessary libraries\n",
        "from sklearn.metrics import recall_score\n",
        "\n",
        "# Calculating the recall score of classifier\n",
        "print(f\"Recall Score of the classifier is: {recall_score(y_test, pred)*100}\")"
      ]
    },
    {
      "cell_type": "code",
      "execution_count": null,
      "metadata": {
        "colab": {
          "base_uri": "https://localhost:8080/"
        },
        "id": "XTlU-E297Ere",
        "outputId": "13674996-ec08-4054-a50d-43660a97a461"
      },
      "outputs": [
        {
          "output_type": "stream",
          "name": "stdout",
          "text": [
            "F1 Score of the classifier is: 90.73039982130891\n"
          ]
        }
      ],
      "source": [
        "# Importing all necessary libraries\n",
        "from sklearn.metrics import f1_score\n",
        "\n",
        "# Calculating the F1 score of classifier\n",
        "print(f\"F1 Score of the classifier is: {f1_score(y_test, pred)*100}\")"
      ]
    },
    {
      "cell_type": "code",
      "execution_count": null,
      "metadata": {
        "colab": {
          "base_uri": "https://localhost:8080/",
          "height": 439
        },
        "id": "k2Kgoe8tNbDn",
        "outputId": "18eb1c09-cffe-4cf2-b0ec-1bcbc0f40a10"
      },
      "outputs": [
        {
          "output_type": "stream",
          "name": "stdout",
          "text": [
            "              precision    recall  f1-score   support\n",
            "\n",
            "           0       0.87      0.93      0.90      2004\n",
            "           1       0.94      0.88      0.91      2313\n",
            "\n",
            "    accuracy                           0.90      4317\n",
            "   macro avg       0.90      0.91      0.90      4317\n",
            "weighted avg       0.91      0.90      0.90      4317\n",
            "\n"
          ]
        },
        {
          "output_type": "execute_result",
          "data": {
            "text/plain": [
              "<matplotlib.axes._subplots.AxesSubplot at 0x7f098f42e610>"
            ]
          },
          "metadata": {},
          "execution_count": 42
        },
        {
          "output_type": "display_data",
          "data": {
            "text/plain": [
              "<Figure size 432x288 with 2 Axes>"
            ],
            "image/png": "[encoded data removed]"
          },
          "metadata": {
            "needs_background": "light"
          }
        }
      ],
      "source": [
        "from sklearn.metrics import confusion_matrix\n",
        "from sklearn.metrics import classification_report\n",
        "from sklearn.metrics import accuracy_score\n",
        "print(classification_report(pred,y_test))\n",
        "con  = pd.DataFrame(confusion_matrix(pred,y_test), columns = ['Predicted:Bad', 'Predicted:Good'], index = ['Actual:Bad', 'Actual:Good'])\n",
        "sns.heatmap(con,annot=True,fmt='.2f')"
      ]
    },
    {
      "cell_type": "code",
      "execution_count": null,
      "metadata": {
        "colab": {
          "base_uri": "https://localhost:8080/",
          "height": 312
        },
        "id": "ISNFz9WW7Jnb",
        "outputId": "1e5b42b9-9ba6-427e-a0ae-eb42ca9d1a53"
      },
      "outputs": [
        {
          "output_type": "stream",
          "name": "stdout",
          "text": [
            "AUC for our classifier is: 93.63605612424053\n"
          ]
        },
        {
          "output_type": "display_data",
          "data": {
            "text/plain": [
              "<Figure size 432x288 with 1 Axes>"
            ],
            "image/png": "[encoded data removed]"
          },
          "metadata": {
            "needs_background": "light"
          }
        }
      ],
      "source": [
        "from sklearn.metrics import roc_curve, auc\n",
        "\n",
        "predict_prob=model.predict(X_test)\n",
        "\n",
        "preds = predict_prob[:]\n",
        "\n",
        "fpr, tpr, threshold = roc_curve(y_test, preds)\n",
        "roc_auc = auc(fpr, tpr)\n",
        "\n",
        "# Printing AUC\n",
        "print(f\"AUC for our classifier is: {roc_auc*100}\")\n",
        "\n",
        "# Plotting the ROC\n",
        "plt.title('Receiver Operating Characteristic')\n",
        "plt.plot(fpr, tpr, 'b', label = 'AUC = %0.2f' % roc_auc)\n",
        "plt.legend(loc = 'lower right')\n",
        "plt.plot([0, 1], [0, 1],'r--')\n",
        "plt.xlim([0, 1])\n",
        "plt.ylim([0, 1])\n",
        "plt.ylabel('True Positive Rate')\n",
        "plt.xlabel('False Positive Rate')\n",
        "plt.show()"
      ]
    },
    {
      "cell_type": "markdown",
      "metadata": {
        "id": "iDy07W1UOBZD"
      },
      "source": [
        "# **Building the CNN Model**"
      ]
    },
    {
      "cell_type": "code",
      "execution_count": null,
      "metadata": {
        "id": "oRWVG0iVTvFC"
      },
      "outputs": [],
      "source": [
        "from keras.models import Sequential\n",
        "from keras.layers import Dense, Dropout, Conv1D, MaxPool1D, Flatten, Embedding"
      ]
    },
    {
      "cell_type": "code",
      "execution_count": null,
      "metadata": {
        "id": "k5Ud_iyWONOs"
      },
      "outputs": [],
      "source": [
        "model1= Sequential()\n",
        "\n",
        "vocab_size=1\n",
        "embedding_dim=8\n",
        "maxlen=21581\n",
        "\n",
        "#Conv layer\n",
        "model1.add(Conv1D(128, kernel_size=(2),activation='relu',input_shape=(8,1)))\n",
        "\n",
        "#Pooling Layer\n",
        "model1.add(MaxPool1D(pool_size=(2)))\n",
        "\n",
        "#Conv layer\n",
        "model1.add(Conv1D(64, kernel_size=(2),activation='relu'))\n",
        "\n",
        "#Pooling Layer\n",
        "model1.add(MaxPool1D(pool_size=(2)))\n",
        "\n",
        "#Fully connected Layer\n",
        "model1.add(Dense(100,activation='relu'))\n",
        "\n",
        "#output Layer\n",
        "model1.add(Dense(1,activation='sigmoid'))"
      ]
    },
    {
      "cell_type": "code",
      "execution_count": null,
      "metadata": {
        "colab": {
          "base_uri": "https://localhost:8080/"
        },
        "id": "G8orlIB_OfoK",
        "outputId": "e9264023-2e51-4c5e-a51a-9627a46b92a5"
      },
      "outputs": [
        {
          "output_type": "stream",
          "name": "stdout",
          "text": [
            "Model: \"sequential_1\"\n",
            "_________________________________________________________________\n",
            " Layer (type)                Output Shape              Param #   \n",
            "=================================================================\n",
            " conv1d (Conv1D)             (None, 7, 128)            384       \n",
            "                                                                 \n",
            " max_pooling1d (MaxPooling1D  (None, 3, 128)           0         \n",
            " )                                                               \n",
            "                                                                 \n",
            " conv1d_1 (Conv1D)           (None, 2, 64)             16448     \n",
            "                                                                 \n",
            " max_pooling1d_1 (MaxPooling  (None, 1, 64)            0         \n",
            " 1D)                                                             \n",
            "                                                                 \n",
            " dense_4 (Dense)             (None, 1, 100)            6500      \n",
            "                                                                 \n",
            " dense_5 (Dense)             (None, 1, 1)              101       \n",
            "                                                                 \n",
            "=================================================================\n",
            "Total params: 23,433\n",
            "Trainable params: 23,433\n",
            "Non-trainable params: 0\n",
            "_________________________________________________________________\n"
          ]
        }
      ],
      "source": [
        "model1.summary()"
      ]
    },
    {
      "cell_type": "code",
      "execution_count": null,
      "metadata": {
        "id": "oCplo_vTOkJ2"
      },
      "outputs": [],
      "source": [
        "model1.compile(loss='binary_crossentropy', optimizer=Adam(), metrics=['accuracy'])"
      ]
    },
    {
      "cell_type": "code",
      "execution_count": null,
      "metadata": {
        "id": "oYTMkOL0Ovgj"
      },
      "outputs": [],
      "source": [
        "from keras import callbacks\n",
        "es_cb = callbacks.EarlyStopping(monitor='loss', min_delta=0.001, patience=5)"
      ]
    },
    {
      "cell_type": "code",
      "execution_count": null,
      "metadata": {
        "id": "lTy0lM2ZaeoU"
      },
      "outputs": [],
      "source": [
        "X_train=X_train.reshape(X_train.shape[0],8,1)"
      ]
    },
    {
      "cell_type": "code",
      "execution_count": null,
      "metadata": {
        "colab": {
          "base_uri": "https://localhost:8080/"
        },
        "id": "wDnqYLqTbJ_L",
        "outputId": "5e30133c-0d09-4249-a53f-b66e294a26e2"
      },
      "outputs": [
        {
          "output_type": "execute_result",
          "data": {
            "text/plain": [
              "(17264, 8, 1)"
            ]
          },
          "metadata": {},
          "execution_count": 50
        }
      ],
      "source": [
        "X_train.shape"
      ]
    },
    {
      "cell_type": "code",
      "source": [
        "X_test.shape"
      ],
      "metadata": {
        "colab": {
          "base_uri": "https://localhost:8080/"
        },
        "id": "zQUJI3sJaCyY",
        "outputId": "99b46a1d-026c-4265-8f1a-82a4be22ecf9"
      },
      "execution_count": null,
      "outputs": [
        {
          "output_type": "execute_result",
          "data": {
            "text/plain": [
              "(4317, 8)"
            ]
          },
          "metadata": {},
          "execution_count": 52
        }
      ]
    },
    {
      "cell_type": "code",
      "source": [
        "X_test=X_test.reshape(X_test.shape[0],8,1)"
      ],
      "metadata": {
        "id": "4go0n_MYZEf1"
      },
      "execution_count": null,
      "outputs": []
    },
    {
      "cell_type": "code",
      "source": [
        "y_train=y_train.reshape(y_train.shape[0],1,1)"
      ],
      "metadata": {
        "id": "BUT0ZavGZHof"
      },
      "execution_count": null,
      "outputs": []
    },
    {
      "cell_type": "code",
      "source": [
        "y_train.shape"
      ],
      "metadata": {
        "colab": {
          "base_uri": "https://localhost:8080/"
        },
        "id": "mhe6mO0zZRcS",
        "outputId": "3e3278d3-0f17-40e9-a289-ff1dc3023478"
      },
      "execution_count": null,
      "outputs": [
        {
          "output_type": "execute_result",
          "data": {
            "text/plain": [
              "(17264, 1, 1)"
            ]
          },
          "metadata": {},
          "execution_count": 56
        }
      ]
    },
    {
      "cell_type": "code",
      "source": [
        "y_test=y_test.reshape(y_test.shape[0],1,1)"
      ],
      "metadata": {
        "id": "uetQI2HuZVRs"
      },
      "execution_count": null,
      "outputs": []
    },
    {
      "cell_type": "code",
      "source": [
        "y_test.shape"
      ],
      "metadata": {
        "colab": {
          "base_uri": "https://localhost:8080/"
        },
        "id": "tnPq0Go2ZZAH",
        "outputId": "1461041d-49c3-45de-b40b-4d0f509a64a3"
      },
      "execution_count": null,
      "outputs": [
        {
          "output_type": "execute_result",
          "data": {
            "text/plain": [
              "(4317, 1, 1)"
            ]
          },
          "metadata": {},
          "execution_count": 58
        }
      ]
    },
    {
      "cell_type": "code",
      "execution_count": null,
      "metadata": {
        "colab": {
          "base_uri": "https://localhost:8080/"
        },
        "id": "tH4IJWm_O3RZ",
        "outputId": "d42adaea-5fc1-4bb3-9169-dc4d8cb806f6"
      },
      "outputs": [
        {
          "output_type": "stream",
          "name": "stdout",
          "text": [
            "Epoch 1/30\n",
            "432/432 [==============================] - 3s 5ms/step - loss: 0.3466 - accuracy: 0.8723 - val_loss: 0.2732 - val_accuracy: 0.9036\n",
            "Epoch 2/30\n",
            "432/432 [==============================] - 2s 4ms/step - loss: 0.2795 - accuracy: 0.9023 - val_loss: 0.2661 - val_accuracy: 0.9091\n",
            "Epoch 3/30\n",
            "432/432 [==============================] - 2s 5ms/step - loss: 0.2738 - accuracy: 0.9027 - val_loss: 0.2749 - val_accuracy: 0.9088\n",
            "Epoch 4/30\n",
            "432/432 [==============================] - 2s 4ms/step - loss: 0.2696 - accuracy: 0.9046 - val_loss: 0.2578 - val_accuracy: 0.9091\n",
            "Epoch 5/30\n",
            "432/432 [==============================] - 2s 4ms/step - loss: 0.2645 - accuracy: 0.9059 - val_loss: 0.2529 - val_accuracy: 0.9123\n",
            "Epoch 6/30\n",
            "432/432 [==============================] - 2s 4ms/step - loss: 0.2631 - accuracy: 0.9063 - val_loss: 0.2535 - val_accuracy: 0.9123\n",
            "Epoch 7/30\n",
            "432/432 [==============================] - 2s 4ms/step - loss: 0.2611 - accuracy: 0.9072 - val_loss: 0.2508 - val_accuracy: 0.9123\n",
            "Epoch 8/30\n",
            "432/432 [==============================] - 2s 4ms/step - loss: 0.2596 - accuracy: 0.9069 - val_loss: 0.2537 - val_accuracy: 0.9123\n",
            "Epoch 9/30\n",
            "432/432 [==============================] - 3s 6ms/step - loss: 0.2582 - accuracy: 0.9072 - val_loss: 0.2478 - val_accuracy: 0.9123\n",
            "Epoch 10/30\n",
            "432/432 [==============================] - 2s 4ms/step - loss: 0.2567 - accuracy: 0.9075 - val_loss: 0.2492 - val_accuracy: 0.9123\n",
            "Epoch 11/30\n",
            "432/432 [==============================] - 2s 4ms/step - loss: 0.2580 - accuracy: 0.9075 - val_loss: 0.2527 - val_accuracy: 0.9123\n",
            "Epoch 12/30\n",
            "432/432 [==============================] - 2s 4ms/step - loss: 0.2571 - accuracy: 0.9076 - val_loss: 0.2495 - val_accuracy: 0.9123\n",
            "Epoch 13/30\n",
            "432/432 [==============================] - 2s 4ms/step - loss: 0.2567 - accuracy: 0.9078 - val_loss: 0.2510 - val_accuracy: 0.9134\n",
            "Epoch 14/30\n",
            "432/432 [==============================] - 2s 4ms/step - loss: 0.2565 - accuracy: 0.9080 - val_loss: 0.2512 - val_accuracy: 0.9123\n",
            "Epoch 15/30\n",
            "432/432 [==============================] - 2s 4ms/step - loss: 0.2554 - accuracy: 0.9083 - val_loss: 0.2464 - val_accuracy: 0.9117\n",
            "Epoch 16/30\n",
            "432/432 [==============================] - 2s 5ms/step - loss: 0.2555 - accuracy: 0.9072 - val_loss: 0.2483 - val_accuracy: 0.9128\n",
            "Epoch 17/30\n",
            "432/432 [==============================] - 2s 4ms/step - loss: 0.2560 - accuracy: 0.9076 - val_loss: 0.2493 - val_accuracy: 0.9123\n",
            "Epoch 18/30\n",
            "432/432 [==============================] - 2s 4ms/step - loss: 0.2550 - accuracy: 0.9078 - val_loss: 0.2492 - val_accuracy: 0.9134\n",
            "Epoch 19/30\n",
            "432/432 [==============================] - 2s 4ms/step - loss: 0.2542 - accuracy: 0.9078 - val_loss: 0.2467 - val_accuracy: 0.9123\n",
            "Epoch 20/30\n",
            "432/432 [==============================] - 2s 5ms/step - loss: 0.2539 - accuracy: 0.9080 - val_loss: 0.2474 - val_accuracy: 0.9123\n",
            "Epoch 21/30\n",
            "432/432 [==============================] - 2s 4ms/step - loss: 0.2543 - accuracy: 0.9081 - val_loss: 0.2474 - val_accuracy: 0.9134\n",
            "Epoch 22/30\n",
            "432/432 [==============================] - 2s 5ms/step - loss: 0.2540 - accuracy: 0.9091 - val_loss: 0.2540 - val_accuracy: 0.9117\n",
            "Epoch 23/30\n",
            "432/432 [==============================] - 2s 4ms/step - loss: 0.2543 - accuracy: 0.9080 - val_loss: 0.2487 - val_accuracy: 0.9117\n",
            "Epoch 24/30\n",
            "432/432 [==============================] - 2s 4ms/step - loss: 0.2536 - accuracy: 0.9093 - val_loss: 0.2510 - val_accuracy: 0.9134\n",
            "135/135 [==============================] - 0s 2ms/step - loss: 0.2675 - accuracy: 0.9048\n",
            "\n",
            "Accuracy score of CNN Neural Network 90.48%\n"
          ]
        }
      ],
      "source": [
        "history = model1.fit(X_train, y_train, batch_size=32, epochs=30, verbose=1, callbacks=[es_cb],validation_split=0.2)\n",
        "\n",
        "scores = model1.evaluate(X_test, y_test)\n",
        "print('\\nAccuracy score of CNN Neural Network {0:.2f}%'.format(scores[1]*100))"
      ]
    },
    {
      "cell_type": "code",
      "source": [
        "acc = history.history['accuracy']\n",
        "val_acc = history.history['val_accuracy']\n",
        "loss = history.history['loss']\n",
        "val_loss = history.history['val_loss']\n",
        "epochs = range(len(acc))\n",
        "plt.plot(epochs, acc, '-', color='orange', label='training acc')\n",
        "plt.plot(epochs, val_acc, '-', color='blue', label='validation acc')\n",
        "plt.title('Training and validation accuracy')\n",
        "plt.legend()\n",
        "plt.show()\n",
        "\n",
        "plt.plot(epochs, loss, '-', color='orange', label='training loss')\n",
        "plt.plot(epochs, val_loss,  '-', color='blue', label='validation loss')\n",
        "plt.title('Training and validation loss')\n",
        "plt.legend()\n",
        "plt.show()"
      ],
      "metadata": {
        "id": "pbjeejOkcFgD",
        "outputId": "21bd316c-a60e-4363-b73f-310e793884e9",
        "colab": {
          "base_uri": "https://localhost:8080/",
          "height": 545
        }
      },
      "execution_count": null,
      "outputs": [
        {
          "output_type": "display_data",
          "data": {
            "text/plain": [
              "<Figure size 432x288 with 1 Axes>"
            ],
            "image/png": "[encoded data removed]"
          },
          "metadata": {
            "needs_background": "light"
          }
        },
        {
          "output_type": "display_data",
          "data": {
            "text/plain": [
              "<Figure size 432x288 with 1 Axes>"
            ],
            "image/png": "[encoded data removed]"
          },
          "metadata": {
            "needs_background": "light"
          }
        }
      ]
    },
    {
      "cell_type": "code",
      "source": [],
      "metadata": {
        "id": "RbolJ73AcArw"
      },
      "execution_count": null,
      "outputs": []
    },
    {
      "cell_type": "code",
      "execution_count": null,
      "metadata": {
        "id": "64n1QZb0PJTM"
      },
      "outputs": [],
      "source": [
        "model1.save('model_cnn.h5')"
      ]
    },
    {
      "cell_type": "code",
      "execution_count": null,
      "metadata": {
        "id": "rMGv2-3E0mVc"
      },
      "outputs": [],
      "source": [
        "X_test.shape"
      ]
    },
    {
      "cell_type": "code",
      "execution_count": null,
      "metadata": {
        "id": "_mrfRcbjPPZH"
      },
      "outputs": [],
      "source": [
        "prediction=model1.predict(X_test)\n",
        "pred = np.array([1 if i >= 0.5 else 0 for i in prediction])"
      ]
    },
    {
      "cell_type": "code",
      "source": [
        "y_test=y_test.reshape(y_test.shape[0],)"
      ],
      "metadata": {
        "id": "hQNdpAeMZevG"
      },
      "execution_count": null,
      "outputs": []
    },
    {
      "cell_type": "code",
      "execution_count": null,
      "metadata": {
        "id": "Ntxf17KmzDnh",
        "colab": {
          "base_uri": "https://localhost:8080/"
        },
        "outputId": "25289e45-5db3-4d15-c53a-9b31d30c82f0"
      },
      "outputs": [
        {
          "output_type": "stream",
          "name": "stdout",
          "text": [
            "90.47949965253649\n"
          ]
        }
      ],
      "source": [
        "accuracy_score=accuracy_score(y_test,pred)*100\n",
        "\n",
        "print(accuracy_score)"
      ]
    },
    {
      "cell_type": "code",
      "execution_count": null,
      "metadata": {
        "id": "QvTl_tD97cmI",
        "colab": {
          "base_uri": "https://localhost:8080/"
        },
        "outputId": "5df46589-9f69-4eac-8baa-e16ef8f172a9"
      },
      "outputs": [
        {
          "output_type": "stream",
          "name": "stdout",
          "text": [
            "Precision Score of the classifier is: 87.44126441691584\n"
          ]
        }
      ],
      "source": [
        "# Importing all necessary libraries\n",
        "from sklearn.metrics import precision_score\n",
        "\n",
        "# Calculating the precision score of classifier\n",
        "print(f\"Precision Score of the classifier is: {precision_score(y_test, pred)*100}\")"
      ]
    },
    {
      "cell_type": "code",
      "execution_count": null,
      "metadata": {
        "id": "cBaH-5Io7gqp",
        "colab": {
          "base_uri": "https://localhost:8080/"
        },
        "outputId": "7b8e3861-badf-490c-c7e3-2aa53adfdcfb"
      },
      "outputs": [
        {
          "output_type": "stream",
          "name": "stdout",
          "text": [
            "Recall Score of the classifier is: 94.59334565619224\n"
          ]
        }
      ],
      "source": [
        "# Importing all necessary libraries\n",
        "from sklearn.metrics import recall_score\n",
        "\n",
        "# Calculating the recall score of classifier\n",
        "print(f\"Recall Score of the classifier is: {recall_score(y_test, pred)*100}\")"
      ]
    },
    {
      "cell_type": "code",
      "execution_count": null,
      "metadata": {
        "id": "LzNtPR787kkg",
        "colab": {
          "base_uri": "https://localhost:8080/"
        },
        "outputId": "b7a43591-5045-4c2b-8aa1-689999ad6c00"
      },
      "outputs": [
        {
          "output_type": "stream",
          "name": "stdout",
          "text": [
            "F1 Score of the classifier is: 90.87680355160933\n"
          ]
        }
      ],
      "source": [
        "# Importing all necessary libraries\n",
        "from sklearn.metrics import f1_score\n",
        "\n",
        "# Calculating the F1 score of classifier\n",
        "print(f\"F1 Score of the classifier is: {f1_score(y_test, pred)*100}\")"
      ]
    },
    {
      "cell_type": "code",
      "execution_count": null,
      "metadata": {
        "id": "olqsfYQlPScD",
        "colab": {
          "base_uri": "https://localhost:8080/",
          "height": 438
        },
        "outputId": "fdb45070-149a-41f1-a5de-9234e44d7a03"
      },
      "outputs": [
        {
          "output_type": "stream",
          "name": "stdout",
          "text": [
            "              precision    recall  f1-score   support\n",
            "\n",
            "           0       0.86      0.94      0.90      1976\n",
            "           1       0.95      0.87      0.91      2341\n",
            "\n",
            "    accuracy                           0.90      4317\n",
            "   macro avg       0.90      0.91      0.90      4317\n",
            "weighted avg       0.91      0.90      0.90      4317\n",
            "\n"
          ]
        },
        {
          "output_type": "execute_result",
          "data": {
            "text/plain": [
              "<matplotlib.axes._subplots.AxesSubplot at 0x7f0991b5bb10>"
            ]
          },
          "metadata": {},
          "execution_count": 66
        },
        {
          "output_type": "display_data",
          "data": {
            "text/plain": [
              "<Figure size 432x288 with 2 Axes>"
            ],
            "image/png": "[encoded data removed]"
          },
          "metadata": {
            "needs_background": "light"
          }
        }
      ],
      "source": [
        "from sklearn.metrics import confusion_matrix\n",
        "from sklearn.metrics import classification_report\n",
        "from sklearn.metrics import accuracy_score\n",
        "print(classification_report(pred,y_test))\n",
        "con  = pd.DataFrame(confusion_matrix(pred,y_test), columns = ['Predicted:Bad', 'Predicted:Good'], index = ['Actual:Bad', 'Actual:Good'])\n",
        "sns.heatmap(con,annot=True,fmt='.2f')"
      ]
    },
    {
      "cell_type": "code",
      "execution_count": null,
      "metadata": {
        "id": "eZP6EiL0cP5k",
        "colab": {
          "base_uri": "https://localhost:8080/",
          "height": 312
        },
        "outputId": "ee60dd8f-f2cf-447c-c4ad-f64da9d8bc54"
      },
      "outputs": [
        {
          "output_type": "stream",
          "name": "stdout",
          "text": [
            "AUC for our classifier is: 93.63605612424053\n"
          ]
        },
        {
          "output_type": "display_data",
          "data": {
            "text/plain": [
              "<Figure size 432x288 with 1 Axes>"
            ],
            "image/png": "[encoded data removed]"
          },
          "metadata": {
            "needs_background": "light"
          }
        }
      ],
      "source": [
        "from sklearn.metrics import roc_curve, auc\n",
        "\n",
        "class_probabilities = model.predict(X_test)\n",
        "preds = class_probabilities[:]\n",
        "\n",
        "fpr, tpr, threshold = roc_curve(y_test, preds)\n",
        "roc_auc = auc(fpr, tpr)\n",
        "\n",
        "# Printing AUC\n",
        "print(f\"AUC for our classifier is: {roc_auc*100}\")\n",
        "\n",
        "# Plotting the ROC\n",
        "plt.title('Receiver Operating Characteristic')\n",
        "plt.plot(fpr, tpr, 'b', label = 'AUC = %0.2f' % roc_auc)\n",
        "plt.legend(loc = 'lower right')\n",
        "plt.plot([0, 1], [0, 1],'r--')\n",
        "plt.xlim([0, 1])\n",
        "plt.ylim([0, 1])\n",
        "plt.ylabel('True Positive Rate')\n",
        "plt.xlabel('False Positive Rate')\n",
        "plt.show()"
      ]
    }
  ],
  "metadata": {
    "colab": {
      "provenance": []
    },
    "kernelspec": {
      "display_name": "Python 3",
      "name": "python3"
    },
    "language_info": {
      "name": "python"
    }
  },
  "nbformat": 4,
  "nbformat_minor": 0
}
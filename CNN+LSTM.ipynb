{
  "nbformat": 4,
  "nbformat_minor": 0,
  "metadata": {
    "colab": {
      "provenance": []
    },
    "kernelspec": {
      "name": "python3",
      "display_name": "Python 3"
    },
    "language_info": {
      "name": "python"
    }
  },
  "cells": [
    {
      "cell_type": "markdown",
      "source": [
        "# **Loading and Pre-Processing the Dataset**"
      ],
      "metadata": {
        "id": "h-AS0CQCM6i2"
      }
    },
    {
      "cell_type": "code",
      "metadata": {
        "id": "hRAGzGxYxhVL"
      },
      "source": [
        "# Import required libraries\n",
        "import pandas as pd\n",
        "import matplotlib.pyplot as plt\n",
        "import seaborn as sns\n",
        "import numpy as np\n",
        "import re\n",
        "import plotly.express as px\n",
        "from urllib.parse import urlparse\n",
        "\n",
        "%matplotlib inline"
      ],
      "execution_count": null,
      "outputs": []
    },
    {
      "cell_type": "code",
      "metadata": {
        "id": "ns5I9BltxiuY"
      },
      "source": [
        "# Import the dataset\n",
        "df=pd.read_csv('Dataset (1).csv')"
      ],
      "execution_count": null,
      "outputs": []
    },
    {
      "cell_type": "code",
      "metadata": {
        "colab": {
          "base_uri": "https://localhost:8080/",
          "height": 423
        },
        "id": "cuwI8WgcxizN",
        "outputId": "8c840fb6-e68a-420e-a915-5a00364d81d7"
      },
      "source": [
        "df"
      ],
      "execution_count": null,
      "outputs": [
        {
          "output_type": "execute_result",
          "data": {
            "text/plain": [
              "                                                     URL       CLASS\n",
              "0                        https://linktr.ee/btinternetlee    Phishing\n",
              "1                           https://tinyurl.com/3j3k2mzd    Phishing\n",
              "2                             https://nevstr.weebly.com/    Phishing\n",
              "3                 https://link.account-update824.com/em=    Phishing\n",
              "4                     https://amazomerowihuiegarbcc.xyz/    Phishing\n",
              "...                                                  ...         ...\n",
              "21576  http://codepen.io/api/oembed?url=http%3A%2F%2F...  Legitimate\n",
              "21577  http://comicbook.com/2014/10/30/pee-wee-herman...  Legitimate\n",
              "21578  http://comicbook.com/2014/12/25/top-ten-comic-...  Legitimate\n",
              "21579  http://comicbook.com/2014/12/30/captain-americ...  Legitimate\n",
              "21580  http://comicbook.com/2015/03/06/jared-leto-wan...  Legitimate\n",
              "\n",
              "[21581 rows x 2 columns]"
            ],
            "text/html": [
              "\n",
              "  <div id=\"df-0168c006-e9bb-493a-856c-19b3b55aef2b\">\n",
              "    <div class=\"colab-df-container\">\n",
              "      <div>\n",
              "<style scoped>\n",
              "    .dataframe tbody tr th:only-of-type {\n",
              "        vertical-align: middle;\n",
              "    }\n",
              "\n",
              "    .dataframe tbody tr th {\n",
              "        vertical-align: top;\n",
              "    }\n",
              "\n",
              "    .dataframe thead th {\n",
              "        text-align: right;\n",
              "    }\n",
              "</style>\n",
              "<table border=\"1\" class=\"dataframe\">\n",
              "  <thead>\n",
              "    <tr style=\"text-align: right;\">\n",
              "      <th></th>\n",
              "      <th>URL</th>\n",
              "      <th>CLASS</th>\n",
              "    </tr>\n",
              "  </thead>\n",
              "  <tbody>\n",
              "    <tr>\n",
              "      <th>0</th>\n",
              "      <td>https://linktr.ee/btinternetlee</td>\n",
              "      <td>Phishing</td>\n",
              "    </tr>\n",
              "    <tr>\n",
              "      <th>1</th>\n",
              "      <td>https://tinyurl.com/3j3k2mzd</td>\n",
              "      <td>Phishing</td>\n",
              "    </tr>\n",
              "    <tr>\n",
              "      <th>2</th>\n",
              "      <td>https://nevstr.weebly.com/</td>\n",
              "      <td>Phishing</td>\n",
              "    </tr>\n",
              "    <tr>\n",
              "      <th>3</th>\n",
              "      <td>https://link.account-update824.com/em=</td>\n",
              "      <td>Phishing</td>\n",
              "    </tr>\n",
              "    <tr>\n",
              "      <th>4</th>\n",
              "      <td>https://amazomerowihuiegarbcc.xyz/</td>\n",
              "      <td>Phishing</td>\n",
              "    </tr>\n",
              "    <tr>\n",
              "      <th>...</th>\n",
              "      <td>...</td>\n",
              "      <td>...</td>\n",
              "    </tr>\n",
              "    <tr>\n",
              "      <th>21576</th>\n",
              "      <td>http://codepen.io/api/oembed?url=http%3A%2F%2F...</td>\n",
              "      <td>Legitimate</td>\n",
              "    </tr>\n",
              "    <tr>\n",
              "      <th>21577</th>\n",
              "      <td>http://comicbook.com/2014/10/30/pee-wee-herman...</td>\n",
              "      <td>Legitimate</td>\n",
              "    </tr>\n",
              "    <tr>\n",
              "      <th>21578</th>\n",
              "      <td>http://comicbook.com/2014/12/25/top-ten-comic-...</td>\n",
              "      <td>Legitimate</td>\n",
              "    </tr>\n",
              "    <tr>\n",
              "      <th>21579</th>\n",
              "      <td>http://comicbook.com/2014/12/30/captain-americ...</td>\n",
              "      <td>Legitimate</td>\n",
              "    </tr>\n",
              "    <tr>\n",
              "      <th>21580</th>\n",
              "      <td>http://comicbook.com/2015/03/06/jared-leto-wan...</td>\n",
              "      <td>Legitimate</td>\n",
              "    </tr>\n",
              "  </tbody>\n",
              "</table>\n",
              "<p>21581 rows × 2 columns</p>\n",
              "</div>\n",
              "      <button class=\"colab-df-convert\" onclick=\"convertToInteractive('df-0168c006-e9bb-493a-856c-19b3b55aef2b')\"\n",
              "              title=\"Convert this dataframe to an interactive table.\"\n",
              "              style=\"display:none;\">\n",
              "        \n",
              "  <svg xmlns=\"http://www.w3.org/2000/svg\" height=\"24px\"viewBox=\"0 0 24 24\"\n",
              "       width=\"24px\">\n",
              "    <path d=\"M0 0h24v24H0V0z\" fill=\"none\"/>\n",
              "    <path d=\"M18.56 5.44l.94 2.06.94-2.06 2.06-.94-2.06-.94-.94-2.06-.94 2.06-2.06.94zm-11 1L8.5 8.5l.94-2.06 2.06-.94-2.06-.94L8.5 2.5l-.94 2.06-2.06.94zm10 10l.94 2.06.94-2.06 2.06-.94-2.06-.94-.94-2.06-.94 2.06-2.06.94z\"/><path d=\"M17.41 7.96l-1.37-1.37c-.4-.4-.92-.59-1.43-.59-.52 0-1.04.2-1.43.59L10.3 9.45l-7.72 7.72c-.78.78-.78 2.05 0 2.83L4 21.41c.39.39.9.59 1.41.59.51 0 1.02-.2 1.41-.59l7.78-7.78 2.81-2.81c.8-.78.8-2.07 0-2.86zM5.41 20L4 18.59l7.72-7.72 1.47 1.35L5.41 20z\"/>\n",
              "  </svg>\n",
              "      </button>\n",
              "      \n",
              "  <style>\n",
              "    .colab-df-container {\n",
              "      display:flex;\n",
              "      flex-wrap:wrap;\n",
              "      gap: 12px;\n",
              "    }\n",
              "\n",
              "    .colab-df-convert {\n",
              "      background-color: #E8F0FE;\n",
              "      border: none;\n",
              "      border-radius: 50%;\n",
              "      cursor: pointer;\n",
              "      display: none;\n",
              "      fill: #1967D2;\n",
              "      height: 32px;\n",
              "      padding: 0 0 0 0;\n",
              "      width: 32px;\n",
              "    }\n",
              "\n",
              "    .colab-df-convert:hover {\n",
              "      background-color: #E2EBFA;\n",
              "      box-shadow: 0px 1px 2px rgba(60, 64, 67, 0.3), 0px 1px 3px 1px rgba(60, 64, 67, 0.15);\n",
              "      fill: #174EA6;\n",
              "    }\n",
              "\n",
              "    [theme=dark] .colab-df-convert {\n",
              "      background-color: #3B4455;\n",
              "      fill: #D2E3FC;\n",
              "    }\n",
              "\n",
              "    [theme=dark] .colab-df-convert:hover {\n",
              "      background-color: #434B5C;\n",
              "      box-shadow: 0px 1px 3px 1px rgba(0, 0, 0, 0.15);\n",
              "      filter: drop-shadow(0px 1px 2px rgba(0, 0, 0, 0.3));\n",
              "      fill: #FFFFFF;\n",
              "    }\n",
              "  </style>\n",
              "\n",
              "      <script>\n",
              "        const buttonEl =\n",
              "          document.querySelector('#df-0168c006-e9bb-493a-856c-19b3b55aef2b button.colab-df-convert');\n",
              "        buttonEl.style.display =\n",
              "          google.colab.kernel.accessAllowed ? 'block' : 'none';\n",
              "\n",
              "        async function convertToInteractive(key) {\n",
              "          const element = document.querySelector('#df-0168c006-e9bb-493a-856c-19b3b55aef2b');\n",
              "          const dataTable =\n",
              "            await google.colab.kernel.invokeFunction('convertToInteractive',\n",
              "                                                     [key], {});\n",
              "          if (!dataTable) return;\n",
              "\n",
              "          const docLinkHtml = 'Like what you see? Visit the ' +\n",
              "            '<a target=\"_blank\" href=https://colab.research.google.com/notebooks/data_table.ipynb>data table notebook</a>'\n",
              "            + ' to learn more about interactive tables.';\n",
              "          element.innerHTML = '';\n",
              "          dataTable['output_type'] = 'display_data';\n",
              "          await google.colab.output.renderOutput(dataTable, element);\n",
              "          const docLink = document.createElement('div');\n",
              "          docLink.innerHTML = docLinkHtml;\n",
              "          element.appendChild(docLink);\n",
              "        }\n",
              "      </script>\n",
              "    </div>\n",
              "  </div>\n",
              "  "
            ]
          },
          "metadata": {},
          "execution_count": 141
        }
      ]
    },
    {
      "cell_type": "code",
      "metadata": {
        "id": "Oa7o5TDPxi3U"
      },
      "source": [
        "df1 = df.replace(['Phishing','Legitimate'],[0,1])"
      ],
      "execution_count": null,
      "outputs": []
    },
    {
      "cell_type": "markdown",
      "source": [
        "# **Feature Extraction for URL**"
      ],
      "metadata": {
        "id": "P5S2I9OdNBQE"
      }
    },
    {
      "cell_type": "code",
      "source": [
        "# Checks for IP address in URL (Have_IP)\n",
        "def havingIP(url):\n",
        "  try:\n",
        "    ipaddress.ip_address(url)\n",
        "    ip = 0\n",
        "  except:\n",
        "    ip = 1\n",
        "  return ip\n",
        "\n",
        "# Checks the presence of @ in URL (Have_At)\n",
        "def haveAtSign(url):\n",
        "  if \"@\" in url:\n",
        "    at = 0\n",
        "  else:\n",
        "    at = 1\n",
        "  return at\n",
        "\n",
        "# Finding the length of URL and categorizing (URL_Length)\n",
        "def getLength(url):\n",
        "  if len(url) < 54:\n",
        "    length =1\n",
        "  else:\n",
        "    length = 0\n",
        "  return length\n",
        "\n",
        "# Existence of “HTTPS” Token in the Domain Part of the URL (https_Domain)\n",
        "def get_protocol(url):\n",
        "    protocol = urlparse(url)\n",
        "    if protocol.scheme == 'https':\n",
        "        return 0\n",
        "    else:\n",
        "        return 1\n",
        "\n",
        "# Gives number of '/' in URL (URL_Depth)\n",
        "def getDepth(url):\n",
        "  s = urlparse(url).path.split('/')\n",
        "  depth = 0\n",
        "  for j in range(len(s)):\n",
        "    if len(s[j]) != 0:\n",
        "      depth = depth+1\n",
        "  return depth\n",
        "\n",
        "# Checking for redirection '//' in the url (Redirection)\n",
        "def redirection(url):\n",
        "  pos = url.rfind('//')\n",
        "  if pos > 6:\n",
        "    if pos > 7:\n",
        "      return 0\n",
        "    else:\n",
        "      return 1\n",
        "  else:\n",
        "    return 1\n",
        "\n",
        "#listing shortening services\n",
        "shortening_services = r\"bit\\.ly|goo\\.gl|shorte\\.st|go2l\\.ink|x\\.co|ow\\.ly|t\\.co|tinyurl|tr\\.im|is\\.gd|cli\\.gs|\" \\\n",
        "                      r\"yfrog\\.com|migre\\.me|ff\\.im|tiny\\.cc|url4\\.eu|twit\\.ac|su\\.pr|twurl\\.nl|snipurl\\.com|\" \\\n",
        "                      r\"short\\.to|BudURL\\.com|ping\\.fm|post\\.ly|Just\\.as|bkite\\.com|snipr\\.com|fic\\.kr|loopt\\.us|\" \\\n",
        "                      r\"doiop\\.com|short\\.ie|kl\\.am|wp\\.me|rubyurl\\.com|om\\.ly|to\\.ly|bit\\.do|t\\.co|lnkd\\.in|db\\.tt|\" \\\n",
        "                      r\"qr\\.ae|adf\\.ly|goo\\.gl|bitly\\.com|cur\\.lv|tinyurl\\.com|ow\\.ly|bit\\.ly|ity\\.im|q\\.gs|is\\.gd|\" \\\n",
        "                      r\"po\\.st|bc\\.vc|twitthis\\.com|u\\.to|j\\.mp|buzurl\\.com|cutt\\.us|u\\.bb|yourls\\.org|x\\.co|\" \\\n",
        "                      r\"prettylinkpro\\.com|scrnch\\.me|filoops\\.info|vzturl\\.com|qr\\.net|1url\\.com|tweez\\.me|v\\.gd|\" \\\n",
        "                      r\"tr\\.im|link\\.zip\\.net\"\n",
        "\n",
        "\n",
        "# Checking for Shortening Services in URL (Tiny_URL)\n",
        "def tinyURL(url):\n",
        "    match=re.search(shortening_services,url)\n",
        "    if match:\n",
        "        return 0\n",
        "    else:\n",
        "        return 1\n",
        "\n",
        "# Checking for Prefix or Suffix Separated by (-) in the Domain (Prefix/Suffix)\n",
        "def prefixSuffix(url):\n",
        "    if '-' in urlparse(url).netloc:\n",
        "        return 0          # phishing\n",
        "    else:\n",
        "        return 1          # legitimate"
      ],
      "metadata": {
        "id": "bPRUujDhMZcv"
      },
      "execution_count": null,
      "outputs": []
    },
    {
      "cell_type": "code",
      "source": [
        "ip = []\n",
        "attherate = []\n",
        "url_length= []\n",
        "protocol = []\n",
        "singleSlash= []\n",
        "doubleSlash= []\n",
        "tinyurl = []\n",
        "hyphen= []"
      ],
      "metadata": {
        "id": "4sR-f5eVMhkT"
      },
      "execution_count": null,
      "outputs": []
    },
    {
      "cell_type": "code",
      "source": [
        "def extract_all_features():\n",
        "  counter = 0\n",
        "  for url in df['URL']:\n",
        "        counter = counter + 1\n",
        "        ip.append(havingIP(url))\n",
        "        attherate.append(haveAtSign(url))\n",
        "        url_length.append(getLength(url))\n",
        "        singleSlash.append(getDepth(url))\n",
        "        doubleSlash.append(redirection(url))\n",
        "        protocol.append(get_protocol(url))\n",
        "        hyphen.append(prefixSuffix(url))\n",
        "        tinyurl.append(tinyURL(url))"
      ],
      "metadata": {
        "id": "5oqzHAsFMkjR"
      },
      "execution_count": null,
      "outputs": []
    },
    {
      "cell_type": "code",
      "source": [
        "extract_all_features()"
      ],
      "metadata": {
        "id": "whHoIddYMnFY"
      },
      "execution_count": null,
      "outputs": []
    },
    {
      "cell_type": "code",
      "source": [
        "features_df = pd.DataFrame()\n",
        "features_df[\"IP Check\"] = ip\n",
        "features_df[\"At The Rate\"] = attherate\n",
        "features_df[\"URL Length\"] = url_length\n",
        "features_df[\"Single Slash\"] = singleSlash\n",
        "features_df[\"Double Slash\"] = doubleSlash\n",
        "features_df[\"HTTP/HTTPS\"] = protocol\n",
        "features_df[\"Hyphen \"] = hyphen\n",
        "features_df[\"Tiny URL\"] = tinyurl\n",
        "features_df[\"Class\"] = df1.CLASS"
      ],
      "metadata": {
        "id": "DVgF4xheMryX"
      },
      "execution_count": null,
      "outputs": []
    },
    {
      "cell_type": "code",
      "metadata": {
        "colab": {
          "base_uri": "https://localhost:8080/"
        },
        "id": "fPADbBf8Ly-G",
        "outputId": "0f930636-429f-47bf-d9bd-ee8de5e2a343"
      },
      "source": [
        "features_df.head(20)"
      ],
      "execution_count": null,
      "outputs": [
        {
          "output_type": "execute_result",
          "data": {
            "text/plain": [
              "    IP Check  At The Rate  URL Length  Single Slash  Double Slash  HTTP/HTTPS  \\\n",
              "0          1            1           1             1             1           0   \n",
              "1          1            1           1             1             1           0   \n",
              "2          1            1           1             0             1           0   \n",
              "3          1            1           1             1             1           0   \n",
              "4          1            1           1             0             1           0   \n",
              "5          1            1           1             0             1           0   \n",
              "6          1            1           1             2             1           1   \n",
              "7          1            1           1             1             1           0   \n",
              "8          1            1           1             1             1           0   \n",
              "9          1            1           1             2             1           0   \n",
              "10         1            1           1             2             0           0   \n",
              "11         1            1           0             4             1           1   \n",
              "12         1            1           0             1             1           0   \n",
              "13         1            1           1             1             1           0   \n",
              "14         1            1           1             1             1           0   \n",
              "15         1            1           1             1             1           0   \n",
              "16         1            1           0             1             1           0   \n",
              "17         1            1           1             1             1           0   \n",
              "18         1            1           1             0             1           0   \n",
              "19         1            1           1             1             1           0   \n",
              "\n",
              "    Hyphen   Tiny URL  Class  \n",
              "0         1         1      0  \n",
              "1         1         0      0  \n",
              "2         1         1      0  \n",
              "3         0         1      0  \n",
              "4         1         1      0  \n",
              "5         0         1      0  \n",
              "6         1         1      0  \n",
              "7         1         1      0  \n",
              "8         0         1      0  \n",
              "9         1         1      0  \n",
              "10        1         1      0  \n",
              "11        0         1      0  \n",
              "12        0         1      0  \n",
              "13        1         0      0  \n",
              "14        1         0      0  \n",
              "15        1         1      0  \n",
              "16        0         1      0  \n",
              "17        1         1      0  \n",
              "18        0         1      0  \n",
              "19        1         1      0  "
            ],
            "text/html": [
              "\n",
              "  <div id=\"df-e7c562be-9e36-41ff-b93a-8c3b8baa4bb2\">\n",
              "    <div class=\"colab-df-container\">\n",
              "      <div>\n",
              "<style scoped>\n",
              "    .dataframe tbody tr th:only-of-type {\n",
              "        vertical-align: middle;\n",
              "    }\n",
              "\n",
              "    .dataframe tbody tr th {\n",
              "        vertical-align: top;\n",
              "    }\n",
              "\n",
              "    .dataframe thead th {\n",
              "        text-align: right;\n",
              "    }\n",
              "</style>\n",
              "<table border=\"1\" class=\"dataframe\">\n",
              "  <thead>\n",
              "    <tr style=\"text-align: right;\">\n",
              "      <th></th>\n",
              "      <th>IP Check</th>\n",
              "      <th>At The Rate</th>\n",
              "      <th>URL Length</th>\n",
              "      <th>Single Slash</th>\n",
              "      <th>Double Slash</th>\n",
              "      <th>HTTP/HTTPS</th>\n",
              "      <th>Hyphen</th>\n",
              "      <th>Tiny URL</th>\n",
              "      <th>Class</th>\n",
              "    </tr>\n",
              "  </thead>\n",
              "  <tbody>\n",
              "    <tr>\n",
              "      <th>0</th>\n",
              "      <td>1</td>\n",
              "      <td>1</td>\n",
              "      <td>1</td>\n",
              "      <td>1</td>\n",
              "      <td>1</td>\n",
              "      <td>0</td>\n",
              "      <td>1</td>\n",
              "      <td>1</td>\n",
              "      <td>0</td>\n",
              "    </tr>\n",
              "    <tr>\n",
              "      <th>1</th>\n",
              "      <td>1</td>\n",
              "      <td>1</td>\n",
              "      <td>1</td>\n",
              "      <td>1</td>\n",
              "      <td>1</td>\n",
              "      <td>0</td>\n",
              "      <td>1</td>\n",
              "      <td>0</td>\n",
              "      <td>0</td>\n",
              "    </tr>\n",
              "    <tr>\n",
              "      <th>2</th>\n",
              "      <td>1</td>\n",
              "      <td>1</td>\n",
              "      <td>1</td>\n",
              "      <td>0</td>\n",
              "      <td>1</td>\n",
              "      <td>0</td>\n",
              "      <td>1</td>\n",
              "      <td>1</td>\n",
              "      <td>0</td>\n",
              "    </tr>\n",
              "    <tr>\n",
              "      <th>3</th>\n",
              "      <td>1</td>\n",
              "      <td>1</td>\n",
              "      <td>1</td>\n",
              "      <td>1</td>\n",
              "      <td>1</td>\n",
              "      <td>0</td>\n",
              "      <td>0</td>\n",
              "      <td>1</td>\n",
              "      <td>0</td>\n",
              "    </tr>\n",
              "    <tr>\n",
              "      <th>4</th>\n",
              "      <td>1</td>\n",
              "      <td>1</td>\n",
              "      <td>1</td>\n",
              "      <td>0</td>\n",
              "      <td>1</td>\n",
              "      <td>0</td>\n",
              "      <td>1</td>\n",
              "      <td>1</td>\n",
              "      <td>0</td>\n",
              "    </tr>\n",
              "    <tr>\n",
              "      <th>5</th>\n",
              "      <td>1</td>\n",
              "      <td>1</td>\n",
              "      <td>1</td>\n",
              "      <td>0</td>\n",
              "      <td>1</td>\n",
              "      <td>0</td>\n",
              "      <td>0</td>\n",
              "      <td>1</td>\n",
              "      <td>0</td>\n",
              "    </tr>\n",
              "    <tr>\n",
              "      <th>6</th>\n",
              "      <td>1</td>\n",
              "      <td>1</td>\n",
              "      <td>1</td>\n",
              "      <td>2</td>\n",
              "      <td>1</td>\n",
              "      <td>1</td>\n",
              "      <td>1</td>\n",
              "      <td>1</td>\n",
              "      <td>0</td>\n",
              "    </tr>\n",
              "    <tr>\n",
              "      <th>7</th>\n",
              "      <td>1</td>\n",
              "      <td>1</td>\n",
              "      <td>1</td>\n",
              "      <td>1</td>\n",
              "      <td>1</td>\n",
              "      <td>0</td>\n",
              "      <td>1</td>\n",
              "      <td>1</td>\n",
              "      <td>0</td>\n",
              "    </tr>\n",
              "    <tr>\n",
              "      <th>8</th>\n",
              "      <td>1</td>\n",
              "      <td>1</td>\n",
              "      <td>1</td>\n",
              "      <td>1</td>\n",
              "      <td>1</td>\n",
              "      <td>0</td>\n",
              "      <td>0</td>\n",
              "      <td>1</td>\n",
              "      <td>0</td>\n",
              "    </tr>\n",
              "    <tr>\n",
              "      <th>9</th>\n",
              "      <td>1</td>\n",
              "      <td>1</td>\n",
              "      <td>1</td>\n",
              "      <td>2</td>\n",
              "      <td>1</td>\n",
              "      <td>0</td>\n",
              "      <td>1</td>\n",
              "      <td>1</td>\n",
              "      <td>0</td>\n",
              "    </tr>\n",
              "    <tr>\n",
              "      <th>10</th>\n",
              "      <td>1</td>\n",
              "      <td>1</td>\n",
              "      <td>1</td>\n",
              "      <td>2</td>\n",
              "      <td>0</td>\n",
              "      <td>0</td>\n",
              "      <td>1</td>\n",
              "      <td>1</td>\n",
              "      <td>0</td>\n",
              "    </tr>\n",
              "    <tr>\n",
              "      <th>11</th>\n",
              "      <td>1</td>\n",
              "      <td>1</td>\n",
              "      <td>0</td>\n",
              "      <td>4</td>\n",
              "      <td>1</td>\n",
              "      <td>1</td>\n",
              "      <td>0</td>\n",
              "      <td>1</td>\n",
              "      <td>0</td>\n",
              "    </tr>\n",
              "    <tr>\n",
              "      <th>12</th>\n",
              "      <td>1</td>\n",
              "      <td>1</td>\n",
              "      <td>0</td>\n",
              "      <td>1</td>\n",
              "      <td>1</td>\n",
              "      <td>0</td>\n",
              "      <td>0</td>\n",
              "      <td>1</td>\n",
              "      <td>0</td>\n",
              "    </tr>\n",
              "    <tr>\n",
              "      <th>13</th>\n",
              "      <td>1</td>\n",
              "      <td>1</td>\n",
              "      <td>1</td>\n",
              "      <td>1</td>\n",
              "      <td>1</td>\n",
              "      <td>0</td>\n",
              "      <td>1</td>\n",
              "      <td>0</td>\n",
              "      <td>0</td>\n",
              "    </tr>\n",
              "    <tr>\n",
              "      <th>14</th>\n",
              "      <td>1</td>\n",
              "      <td>1</td>\n",
              "      <td>1</td>\n",
              "      <td>1</td>\n",
              "      <td>1</td>\n",
              "      <td>0</td>\n",
              "      <td>1</td>\n",
              "      <td>0</td>\n",
              "      <td>0</td>\n",
              "    </tr>\n",
              "    <tr>\n",
              "      <th>15</th>\n",
              "      <td>1</td>\n",
              "      <td>1</td>\n",
              "      <td>1</td>\n",
              "      <td>1</td>\n",
              "      <td>1</td>\n",
              "      <td>0</td>\n",
              "      <td>1</td>\n",
              "      <td>1</td>\n",
              "      <td>0</td>\n",
              "    </tr>\n",
              "    <tr>\n",
              "      <th>16</th>\n",
              "      <td>1</td>\n",
              "      <td>1</td>\n",
              "      <td>0</td>\n",
              "      <td>1</td>\n",
              "      <td>1</td>\n",
              "      <td>0</td>\n",
              "      <td>0</td>\n",
              "      <td>1</td>\n",
              "      <td>0</td>\n",
              "    </tr>\n",
              "    <tr>\n",
              "      <th>17</th>\n",
              "      <td>1</td>\n",
              "      <td>1</td>\n",
              "      <td>1</td>\n",
              "      <td>1</td>\n",
              "      <td>1</td>\n",
              "      <td>0</td>\n",
              "      <td>1</td>\n",
              "      <td>1</td>\n",
              "      <td>0</td>\n",
              "    </tr>\n",
              "    <tr>\n",
              "      <th>18</th>\n",
              "      <td>1</td>\n",
              "      <td>1</td>\n",
              "      <td>1</td>\n",
              "      <td>0</td>\n",
              "      <td>1</td>\n",
              "      <td>0</td>\n",
              "      <td>0</td>\n",
              "      <td>1</td>\n",
              "      <td>0</td>\n",
              "    </tr>\n",
              "    <tr>\n",
              "      <th>19</th>\n",
              "      <td>1</td>\n",
              "      <td>1</td>\n",
              "      <td>1</td>\n",
              "      <td>1</td>\n",
              "      <td>1</td>\n",
              "      <td>0</td>\n",
              "      <td>1</td>\n",
              "      <td>1</td>\n",
              "      <td>0</td>\n",
              "    </tr>\n",
              "  </tbody>\n",
              "</table>\n",
              "</div>\n",
              "      <button class=\"colab-df-convert\" onclick=\"convertToInteractive('df-e7c562be-9e36-41ff-b93a-8c3b8baa4bb2')\"\n",
              "              title=\"Convert this dataframe to an interactive table.\"\n",
              "              style=\"display:none;\">\n",
              "        \n",
              "  <svg xmlns=\"http://www.w3.org/2000/svg\" height=\"24px\"viewBox=\"0 0 24 24\"\n",
              "       width=\"24px\">\n",
              "    <path d=\"M0 0h24v24H0V0z\" fill=\"none\"/>\n",
              "    <path d=\"M18.56 5.44l.94 2.06.94-2.06 2.06-.94-2.06-.94-.94-2.06-.94 2.06-2.06.94zm-11 1L8.5 8.5l.94-2.06 2.06-.94-2.06-.94L8.5 2.5l-.94 2.06-2.06.94zm10 10l.94 2.06.94-2.06 2.06-.94-2.06-.94-.94-2.06-.94 2.06-2.06.94z\"/><path d=\"M17.41 7.96l-1.37-1.37c-.4-.4-.92-.59-1.43-.59-.52 0-1.04.2-1.43.59L10.3 9.45l-7.72 7.72c-.78.78-.78 2.05 0 2.83L4 21.41c.39.39.9.59 1.41.59.51 0 1.02-.2 1.41-.59l7.78-7.78 2.81-2.81c.8-.78.8-2.07 0-2.86zM5.41 20L4 18.59l7.72-7.72 1.47 1.35L5.41 20z\"/>\n",
              "  </svg>\n",
              "      </button>\n",
              "      \n",
              "  <style>\n",
              "    .colab-df-container {\n",
              "      display:flex;\n",
              "      flex-wrap:wrap;\n",
              "      gap: 12px;\n",
              "    }\n",
              "\n",
              "    .colab-df-convert {\n",
              "      background-color: #E8F0FE;\n",
              "      border: none;\n",
              "      border-radius: 50%;\n",
              "      cursor: pointer;\n",
              "      display: none;\n",
              "      fill: #1967D2;\n",
              "      height: 32px;\n",
              "      padding: 0 0 0 0;\n",
              "      width: 32px;\n",
              "    }\n",
              "\n",
              "    .colab-df-convert:hover {\n",
              "      background-color: #E2EBFA;\n",
              "      box-shadow: 0px 1px 2px rgba(60, 64, 67, 0.3), 0px 1px 3px 1px rgba(60, 64, 67, 0.15);\n",
              "      fill: #174EA6;\n",
              "    }\n",
              "\n",
              "    [theme=dark] .colab-df-convert {\n",
              "      background-color: #3B4455;\n",
              "      fill: #D2E3FC;\n",
              "    }\n",
              "\n",
              "    [theme=dark] .colab-df-convert:hover {\n",
              "      background-color: #434B5C;\n",
              "      box-shadow: 0px 1px 3px 1px rgba(0, 0, 0, 0.15);\n",
              "      filter: drop-shadow(0px 1px 2px rgba(0, 0, 0, 0.3));\n",
              "      fill: #FFFFFF;\n",
              "    }\n",
              "  </style>\n",
              "\n",
              "      <script>\n",
              "        const buttonEl =\n",
              "          document.querySelector('#df-e7c562be-9e36-41ff-b93a-8c3b8baa4bb2 button.colab-df-convert');\n",
              "        buttonEl.style.display =\n",
              "          google.colab.kernel.accessAllowed ? 'block' : 'none';\n",
              "\n",
              "        async function convertToInteractive(key) {\n",
              "          const element = document.querySelector('#df-e7c562be-9e36-41ff-b93a-8c3b8baa4bb2');\n",
              "          const dataTable =\n",
              "            await google.colab.kernel.invokeFunction('convertToInteractive',\n",
              "                                                     [key], {});\n",
              "          if (!dataTable) return;\n",
              "\n",
              "          const docLinkHtml = 'Like what you see? Visit the ' +\n",
              "            '<a target=\"_blank\" href=https://colab.research.google.com/notebooks/data_table.ipynb>data table notebook</a>'\n",
              "            + ' to learn more about interactive tables.';\n",
              "          element.innerHTML = '';\n",
              "          dataTable['output_type'] = 'display_data';\n",
              "          await google.colab.output.renderOutput(dataTable, element);\n",
              "          const docLink = document.createElement('div');\n",
              "          docLink.innerHTML = docLinkHtml;\n",
              "          element.appendChild(docLink);\n",
              "        }\n",
              "      </script>\n",
              "    </div>\n",
              "  </div>\n",
              "  "
            ]
          },
          "metadata": {},
          "execution_count": 148
        }
      ]
    },
    {
      "cell_type": "markdown",
      "source": [
        "# **Biulding the CNN+LSTM model**"
      ],
      "metadata": {
        "id": "C0jP13zQM0rA"
      }
    },
    {
      "cell_type": "code",
      "metadata": {
        "id": "Ao4usx2LMmzV"
      },
      "source": [
        "X=features_df.iloc[:,0:8].values\n",
        "y=features_df.iloc[:,8].values"
      ],
      "execution_count": null,
      "outputs": []
    },
    {
      "cell_type": "code",
      "metadata": {
        "id": "JHO50ZsxMm3g"
      },
      "source": [
        "from sklearn.model_selection import train_test_split\n",
        "X_train, X_test, y_train, y_test = train_test_split(X, y, test_size=0.2, random_state=np.random.seed(10))"
      ],
      "execution_count": null,
      "outputs": []
    },
    {
      "cell_type": "code",
      "metadata": {
        "colab": {
          "base_uri": "https://localhost:8080/"
        },
        "id": "mMyZxB5Pmke0",
        "outputId": "3897b7e4-1f1c-46a5-f6c4-986a8478cde6"
      },
      "source": [
        "X_train.shape"
      ],
      "execution_count": null,
      "outputs": [
        {
          "output_type": "execute_result",
          "data": {
            "text/plain": [
              "(17264, 8)"
            ]
          },
          "metadata": {},
          "execution_count": 151
        }
      ]
    },
    {
      "cell_type": "code",
      "metadata": {
        "colab": {
          "base_uri": "https://localhost:8080/"
        },
        "id": "Evxg2N6OmkkP",
        "outputId": "2bfa12e1-c497-414d-f59a-4556da18aeca"
      },
      "source": [
        "X_test.shape"
      ],
      "execution_count": null,
      "outputs": [
        {
          "output_type": "execute_result",
          "data": {
            "text/plain": [
              "(4317, 8)"
            ]
          },
          "metadata": {},
          "execution_count": 152
        }
      ]
    },
    {
      "cell_type": "code",
      "metadata": {
        "colab": {
          "base_uri": "https://localhost:8080/"
        },
        "id": "d6Baoijqmkn7",
        "outputId": "466edef3-1975-4d41-82cf-2f50231734f9"
      },
      "source": [
        "y_train.shape"
      ],
      "execution_count": null,
      "outputs": [
        {
          "output_type": "execute_result",
          "data": {
            "text/plain": [
              "(17264,)"
            ]
          },
          "metadata": {},
          "execution_count": 153
        }
      ]
    },
    {
      "cell_type": "code",
      "metadata": {
        "colab": {
          "base_uri": "https://localhost:8080/"
        },
        "id": "9rjDMotGmvHa",
        "outputId": "84640ce6-1fef-4bac-dfb3-e2ef4be060ae"
      },
      "source": [
        "y_test.shape"
      ],
      "execution_count": null,
      "outputs": [
        {
          "output_type": "execute_result",
          "data": {
            "text/plain": [
              "(4317,)"
            ]
          },
          "metadata": {},
          "execution_count": 154
        }
      ]
    },
    {
      "cell_type": "code",
      "metadata": {
        "id": "U2XiroTCMm7B"
      },
      "source": [
        "!pip install -q keras"
      ],
      "execution_count": null,
      "outputs": []
    },
    {
      "cell_type": "code",
      "metadata": {
        "id": "fHZh6JeqMm-D"
      },
      "source": [
        "#import all the necessary libraries\n",
        "import keras\n",
        "from keras.preprocessing.image import ImageDataGenerator\n",
        "from keras.callbacks import ModelCheckpoint\n",
        "import matplotlib.pyplot as plt"
      ],
      "execution_count": null,
      "outputs": []
    },
    {
      "cell_type": "code",
      "metadata": {
        "id": "gtp3dYuaMnBj"
      },
      "source": [
        "from tensorflow.keras.optimizers import Adam"
      ],
      "execution_count": null,
      "outputs": []
    },
    {
      "cell_type": "code",
      "metadata": {
        "id": "QkwCwQVcMylL"
      },
      "source": [
        "from keras.models import Sequential\n",
        "from keras.layers import Dense\n",
        "from keras.optimizers import *\n",
        "from keras.layers import LSTM\n",
        "from keras.layers import Dropout"
      ],
      "execution_count": null,
      "outputs": []
    },
    {
      "cell_type": "code",
      "metadata": {
        "colab": {
          "base_uri": "https://localhost:8080/"
        },
        "id": "gpHbIrM-CAu-",
        "outputId": "0991e81a-079f-499e-a3ec-69196c56a2a4"
      },
      "source": [
        "X_train.shape[1],1"
      ],
      "execution_count": null,
      "outputs": [
        {
          "output_type": "execute_result",
          "data": {
            "text/plain": [
              "(8, 1)"
            ]
          },
          "metadata": {},
          "execution_count": 159
        }
      ]
    },
    {
      "cell_type": "code",
      "metadata": {
        "colab": {
          "base_uri": "https://localhost:8080/"
        },
        "id": "Mzn_pZPmed67",
        "outputId": "245eec3a-367a-42ef-ce20-7c83287ed1f6"
      },
      "source": [
        "features_df.shape"
      ],
      "execution_count": null,
      "outputs": [
        {
          "output_type": "execute_result",
          "data": {
            "text/plain": [
              "(21581, 9)"
            ]
          },
          "metadata": {},
          "execution_count": 160
        }
      ]
    },
    {
      "cell_type": "code",
      "source": [
        "from keras.models import Sequential\n",
        "from keras.layers import Dense\n",
        "from keras.optimizers import *\n",
        "from keras.layers import Dropout, Embedding, LSTM,Conv1D"
      ],
      "metadata": {
        "id": "-BRo70GWoune"
      },
      "execution_count": null,
      "outputs": []
    },
    {
      "cell_type": "code",
      "source": [
        "#max_chars = 20000\n",
        "maxlen = 8\n",
        "#embedding_vector_length=128"
      ],
      "metadata": {
        "id": "GgcqiVrJoyge"
      },
      "execution_count": null,
      "outputs": []
    },
    {
      "cell_type": "code",
      "source": [
        "model = Sequential()\n",
        "model.add(Embedding(21581, 8))\n",
        "model.add(Conv1D(128,activation = 'relu',kernel_size=3))\n",
        "model.add(Conv1D(64,activation = 'relu',kernel_size=3))\n",
        "model.add(Conv1D(32,activation = 'relu',kernel_size=3))\n",
        "model.add(LSTM(256, dropout=0.3, recurrent_dropout=0.3))\n",
        "model.add(Dense(1, activation='sigmoid'))\n",
        "\n",
        "model.compile(loss='binary_crossentropy', optimizer=Adam(), metrics=['accuracy'])"
      ],
      "metadata": {
        "id": "ft8kn1e8o2_o"
      },
      "execution_count": null,
      "outputs": []
    },
    {
      "cell_type": "code",
      "metadata": {
        "id": "WyN9H81I6a1F",
        "colab": {
          "base_uri": "https://localhost:8080/"
        },
        "outputId": "08a6fff0-e56d-4f1c-b0d9-a1fcc8603488"
      },
      "source": [
        "#Summary of CNN+LSTM Model\n",
        "model.summary()"
      ],
      "execution_count": null,
      "outputs": [
        {
          "output_type": "stream",
          "name": "stdout",
          "text": [
            "Model: \"sequential_3\"\n",
            "_________________________________________________________________\n",
            " Layer (type)                Output Shape              Param #   \n",
            "=================================================================\n",
            " embedding_3 (Embedding)     (None, None, 8)           172648    \n",
            "                                                                 \n",
            " conv1d_9 (Conv1D)           (None, None, 128)         3200      \n",
            "                                                                 \n",
            " conv1d_10 (Conv1D)          (None, None, 64)          24640     \n",
            "                                                                 \n",
            " conv1d_11 (Conv1D)          (None, None, 32)          6176      \n",
            "                                                                 \n",
            " lstm_3 (LSTM)               (None, 256)               295936    \n",
            "                                                                 \n",
            " dense_3 (Dense)             (None, 1)                 257       \n",
            "                                                                 \n",
            "=================================================================\n",
            "Total params: 502,857\n",
            "Trainable params: 502,857\n",
            "Non-trainable params: 0\n",
            "_________________________________________________________________\n"
          ]
        }
      ]
    },
    {
      "cell_type": "code",
      "metadata": {
        "id": "F3-lpeq26h8x"
      },
      "source": [
        "#from keras import callbacks\n",
        "#es_cb = callbacks.EarlyStopping(monitor='loss', min_delta=0.001, patience=5)"
      ],
      "execution_count": null,
      "outputs": []
    },
    {
      "cell_type": "code",
      "metadata": {
        "id": "VdJYhy0Q6mo1",
        "colab": {
          "base_uri": "https://localhost:8080/"
        },
        "outputId": "09d363fd-2764-4906-b9b1-13358ee452d0"
      },
      "source": [
        "history = model.fit(X_train, y_train, batch_size=32, epochs=30, verbose=1,validation_split=0.2)\n",
        "\n",
        "scores = model.evaluate(X_test, y_test)\n",
        "print('\\nAccuracy score of CNN+LSTM Neural Network {0:.2f}%'.format(scores[1]*100))"
      ],
      "execution_count": null,
      "outputs": [
        {
          "output_type": "stream",
          "name": "stdout",
          "text": [
            "Epoch 1/30\n",
            "432/432 [==============================] - 15s 24ms/step - loss: 0.3324 - accuracy: 0.8984 - val_loss: 0.3329 - val_accuracy: 0.8871\n",
            "Epoch 2/30\n",
            "432/432 [==============================] - 13s 30ms/step - loss: 0.3038 - accuracy: 0.8999 - val_loss: 0.3175 - val_accuracy: 0.8871\n",
            "Epoch 3/30\n",
            "432/432 [==============================] - 15s 34ms/step - loss: 0.2896 - accuracy: 0.9038 - val_loss: 0.3041 - val_accuracy: 0.8983\n",
            "Epoch 4/30\n",
            "432/432 [==============================] - 12s 28ms/step - loss: 0.2827 - accuracy: 0.9067 - val_loss: 0.3014 - val_accuracy: 0.8983\n",
            "Epoch 5/30\n",
            "432/432 [==============================] - 9s 20ms/step - loss: 0.2810 - accuracy: 0.9065 - val_loss: 0.2987 - val_accuracy: 0.8986\n",
            "Epoch 6/30\n",
            "432/432 [==============================] - 7s 17ms/step - loss: 0.2790 - accuracy: 0.9066 - val_loss: 0.2977 - val_accuracy: 0.8986\n",
            "Epoch 7/30\n",
            "432/432 [==============================] - 7s 16ms/step - loss: 0.2766 - accuracy: 0.9062 - val_loss: 0.2960 - val_accuracy: 0.8960\n",
            "Epoch 8/30\n",
            "432/432 [==============================] - 7s 16ms/step - loss: 0.2772 - accuracy: 0.9067 - val_loss: 0.2972 - val_accuracy: 0.8981\n",
            "Epoch 9/30\n",
            "432/432 [==============================] - 7s 17ms/step - loss: 0.2742 - accuracy: 0.9080 - val_loss: 0.2970 - val_accuracy: 0.8986\n",
            "Epoch 10/30\n",
            "432/432 [==============================] - 7s 17ms/step - loss: 0.2752 - accuracy: 0.9068 - val_loss: 0.2955 - val_accuracy: 0.8983\n",
            "Epoch 11/30\n",
            "432/432 [==============================] - 7s 17ms/step - loss: 0.2737 - accuracy: 0.9076 - val_loss: 0.2985 - val_accuracy: 0.8986\n",
            "Epoch 12/30\n",
            "432/432 [==============================] - 7s 17ms/step - loss: 0.2734 - accuracy: 0.9083 - val_loss: 0.2982 - val_accuracy: 0.8983\n",
            "Epoch 13/30\n",
            "432/432 [==============================] - 7s 17ms/step - loss: 0.2728 - accuracy: 0.9088 - val_loss: 0.2949 - val_accuracy: 0.8986\n",
            "Epoch 14/30\n",
            "432/432 [==============================] - 7s 17ms/step - loss: 0.2720 - accuracy: 0.9076 - val_loss: 0.2928 - val_accuracy: 0.8986\n",
            "Epoch 15/30\n",
            "432/432 [==============================] - 7s 16ms/step - loss: 0.2720 - accuracy: 0.9083 - val_loss: 0.2985 - val_accuracy: 0.8986\n",
            "Epoch 16/30\n",
            "432/432 [==============================] - 7s 16ms/step - loss: 0.2706 - accuracy: 0.9083 - val_loss: 0.3078 - val_accuracy: 0.8983\n",
            "Epoch 17/30\n",
            "432/432 [==============================] - 8s 19ms/step - loss: 0.2714 - accuracy: 0.9091 - val_loss: 0.2935 - val_accuracy: 0.8986\n",
            "Epoch 18/30\n",
            "432/432 [==============================] - 7s 16ms/step - loss: 0.2705 - accuracy: 0.9082 - val_loss: 0.2985 - val_accuracy: 0.8983\n",
            "Epoch 19/30\n",
            "432/432 [==============================] - 7s 16ms/step - loss: 0.2708 - accuracy: 0.9093 - val_loss: 0.2930 - val_accuracy: 0.8986\n",
            "Epoch 20/30\n",
            "432/432 [==============================] - 7s 16ms/step - loss: 0.2709 - accuracy: 0.9083 - val_loss: 0.2950 - val_accuracy: 0.8986\n",
            "Epoch 21/30\n",
            "432/432 [==============================] - 7s 16ms/step - loss: 0.2703 - accuracy: 0.9088 - val_loss: 0.3043 - val_accuracy: 0.8986\n",
            "Epoch 22/30\n",
            "432/432 [==============================] - 7s 16ms/step - loss: 0.2712 - accuracy: 0.9086 - val_loss: 0.2952 - val_accuracy: 0.8978\n",
            "Epoch 23/30\n",
            "432/432 [==============================] - 7s 16ms/step - loss: 0.2704 - accuracy: 0.9086 - val_loss: 0.2963 - val_accuracy: 0.8986\n",
            "Epoch 24/30\n",
            "432/432 [==============================] - 7s 16ms/step - loss: 0.2704 - accuracy: 0.9087 - val_loss: 0.2940 - val_accuracy: 0.8986\n",
            "Epoch 25/30\n",
            "432/432 [==============================] - 7s 16ms/step - loss: 0.2692 - accuracy: 0.9086 - val_loss: 0.3002 - val_accuracy: 0.8983\n",
            "Epoch 26/30\n",
            "432/432 [==============================] - 7s 17ms/step - loss: 0.2699 - accuracy: 0.9088 - val_loss: 0.2942 - val_accuracy: 0.8986\n",
            "Epoch 27/30\n",
            "432/432 [==============================] - 7s 17ms/step - loss: 0.2705 - accuracy: 0.9087 - val_loss: 0.2937 - val_accuracy: 0.8986\n",
            "Epoch 28/30\n",
            "432/432 [==============================] - 7s 17ms/step - loss: 0.2693 - accuracy: 0.9091 - val_loss: 0.2935 - val_accuracy: 0.8972\n",
            "Epoch 29/30\n",
            "432/432 [==============================] - 7s 17ms/step - loss: 0.2697 - accuracy: 0.9082 - val_loss: 0.2949 - val_accuracy: 0.8986\n",
            "Epoch 30/30\n",
            "432/432 [==============================] - 8s 18ms/step - loss: 0.2690 - accuracy: 0.9086 - val_loss: 0.2934 - val_accuracy: 0.8992\n",
            "135/135 [==============================] - 0s 3ms/step - loss: 0.2947 - accuracy: 0.8990\n",
            "\n",
            "Accuracy score of CNN+LSTM Neural Network 89.90%\n"
          ]
        }
      ]
    },
    {
      "cell_type": "code",
      "source": [
        "acc = history.history['accuracy']\n",
        "val_acc = history.history['val_accuracy']\n",
        "loss = history.history['loss']\n",
        "val_loss = history.history['val_loss']\n",
        "epochs = range(len(acc))\n",
        "plt.plot(epochs, acc, '-', color='orange', label='training acc')\n",
        "plt.plot(epochs, val_acc, '-', color='blue', label='validation acc')\n",
        "plt.title('Training and validation accuracy')\n",
        "plt.legend()\n",
        "plt.show()\n",
        "\n",
        "plt.plot(epochs, loss, '-', color='orange', label='training loss')\n",
        "plt.plot(epochs, val_loss,  '-', color='blue', label='validation loss')\n",
        "plt.title('Training and validation loss')\n",
        "plt.legend()\n",
        "plt.show()"
      ],
      "metadata": {
        "colab": {
          "base_uri": "https://localhost:8080/"
        },
        "id": "bbvURS7E8YVk",
        "outputId": "e6a82174-ff7a-4a02-c660-9ed3681bdffe"
      },
      "execution_count": null,
      "outputs": [
        {
          "output_type": "display_data",
          "data": {
            "text/plain": [
              "<Figure size 432x288 with 1 Axes>"
            ],
            "image/png": "[encoded data removed]"
          },
          "metadata": {
            "needs_background": "light"
          }
        },
        {
          "output_type": "display_data",
          "data": {
            "text/plain": [
              "<Figure size 432x288 with 1 Axes>"
            ],
            "image/png": "[encoded data removed]"
          },
          "metadata": {
            "needs_background": "light"
          }
        }
      ]
    },
    {
      "cell_type": "code",
      "source": [
        "model.save('model_cnnlstm.h5')"
      ],
      "metadata": {
        "id": "S9f2kl1dNtun"
      },
      "execution_count": null,
      "outputs": []
    },
    {
      "cell_type": "code",
      "source": [
        "prediction=model.predict(X_test)"
      ],
      "metadata": {
        "id": "hJVoLD2W0_wg"
      },
      "execution_count": null,
      "outputs": []
    },
    {
      "cell_type": "code",
      "source": [
        "pred = np.array([1 if i >= 0.5 else 0 for i in prediction])"
      ],
      "metadata": {
        "id": "mpyx0r-oJA29"
      },
      "execution_count": null,
      "outputs": []
    },
    {
      "cell_type": "code",
      "source": [
        "from sklearn.metrics import accuracy_score\n",
        "accuracy_score=accuracy_score(y_test,pred)*100\n",
        "print(accuracy_score)"
      ],
      "metadata": {
        "colab": {
          "base_uri": "https://localhost:8080/"
        },
        "id": "1VcIcEwy8WOL",
        "outputId": "6403b0c4-4b23-427a-9911-2e3411b44c31"
      },
      "execution_count": null,
      "outputs": [
        {
          "output_type": "stream",
          "name": "stdout",
          "text": [
            "89.90039379198518\n"
          ]
        }
      ]
    },
    {
      "cell_type": "code",
      "source": [
        "# Importing all necessary libraries\n",
        "from sklearn.metrics import precision_score\n",
        "\n",
        "# Calculating the precision score of classifier\n",
        "print(f\"Precision Score of the classifier is: {precision_score(y_test, pred)*100}\")"
      ],
      "metadata": {
        "colab": {
          "base_uri": "https://localhost:8080/"
        },
        "id": "Uc4wzsjS2m7C",
        "outputId": "f231f5c3-8e5f-46b5-dfd1-ac3bda4b62f6"
      },
      "execution_count": null,
      "outputs": [
        {
          "output_type": "stream",
          "name": "stdout",
          "text": [
            "Precision Score of the classifier is: 90.09667531242631\n"
          ]
        }
      ]
    },
    {
      "cell_type": "code",
      "source": [
        "# Importing all necessary libraries\n",
        "from sklearn.metrics import recall_score\n",
        "\n",
        "# Calculating the recall score of classifier\n",
        "print(f\"Recall Score of the classifier is: {recall_score(y_test, pred)*100}\")"
      ],
      "metadata": {
        "colab": {
          "base_uri": "https://localhost:8080/"
        },
        "id": "hgdPyQVs3Bvj",
        "outputId": "f8f64235-d13f-4ab1-80ed-d9520ff7037a"
      },
      "execution_count": null,
      "outputs": [
        {
          "output_type": "stream",
          "name": "stdout",
          "text": [
            "Recall Score of the classifier is: 99.58300755798801\n"
          ]
        }
      ]
    },
    {
      "cell_type": "code",
      "source": [
        "# Importing all necessary libraries\n",
        "from sklearn.metrics import f1_score\n",
        "\n",
        "# Calculating the F1 score of classifier\n",
        "print(f\"F1 Score of the classifier is: {f1_score(y_test, pred)*100}\")"
      ],
      "metadata": {
        "colab": {
          "base_uri": "https://localhost:8080/"
        },
        "id": "NkJp0Yry3Bnu",
        "outputId": "a0ac918d-6e9c-4ac9-8c3e-cdcb83ae6f2a"
      },
      "execution_count": null,
      "outputs": [
        {
          "output_type": "stream",
          "name": "stdout",
          "text": [
            "F1 Score of the classifier is: 94.60262441198316\n"
          ]
        }
      ]
    },
    {
      "cell_type": "code",
      "source": [
        "from sklearn.metrics import roc_curve, auc\n",
        "\n",
        "predict_prob=model.predict(X_test)\n",
        "\n",
        "preds = predict_prob[:]\n",
        "\n",
        "fpr, tpr, threshold = roc_curve(y_test, preds)\n",
        "roc_auc = auc(fpr, tpr)\n",
        "\n",
        "# Printing AUC\n",
        "print(f\"AUC for our classifier is: {roc_auc*100}\")\n",
        "\n",
        "# Plotting the ROC\n",
        "plt.title('Receiver Operating Characteristic')\n",
        "plt.plot(fpr, tpr, 'b', label = 'AUC = %0.2f' % roc_auc)\n",
        "plt.legend(loc = 'lower right')\n",
        "plt.plot([0, 1], [0, 1],'r--')\n",
        "plt.xlim([0, 1])\n",
        "plt.ylim([0, 1])\n",
        "plt.ylabel('True Positive Rate')\n",
        "plt.xlabel('False Positive Rate')\n",
        "plt.show()"
      ],
      "metadata": {
        "colab": {
          "base_uri": "https://localhost:8080/"
        },
        "id": "f-_1GFNJ3GLh",
        "outputId": "8c92110c-fdcb-4741-8614-bf75fcea7f0a"
      },
      "execution_count": null,
      "outputs": [
        {
          "output_type": "stream",
          "name": "stdout",
          "text": [
            "AUC for our classifier is: 76.15283750325776\n"
          ]
        },
        {
          "output_type": "display_data",
          "data": {
            "text/plain": [
              "<Figure size 432x288 with 1 Axes>"
            ],
            "image/png": "[encoded data removed]"
          },
          "metadata": {
            "needs_background": "light"
          }
        }
      ]
    },
    {
      "cell_type": "code",
      "source": [
        "from sklearn.metrics import confusion_matrix\n",
        "from sklearn.metrics import classification_report\n",
        "from sklearn.metrics import accuracy_score\n",
        "print(classification_report(pred,y_test))\n",
        "con  = pd.DataFrame(confusion_matrix(pred,y_test), columns = ['Predicted:Bad', 'Predicted:Good'], index = ['Actual:Bad', 'Actual:Good'])\n",
        "sns.heatmap(con,annot=True,fmt='.2f')"
      ],
      "metadata": {
        "colab": {
          "base_uri": "https://localhost:8080/"
        },
        "id": "DW-cF4JAC3J5",
        "outputId": "20bbf221-95cc-4c5a-c50e-0479e18bf32e"
      },
      "execution_count": null,
      "outputs": [
        {
          "output_type": "stream",
          "name": "stdout",
          "text": [
            "              precision    recall  f1-score   support\n",
            "\n",
            "           0       0.12      0.79      0.22        76\n",
            "           1       1.00      0.90      0.95      4241\n",
            "\n",
            "    accuracy                           0.90      4317\n",
            "   macro avg       0.56      0.85      0.58      4317\n",
            "weighted avg       0.98      0.90      0.93      4317\n",
            "\n"
          ]
        },
        {
          "output_type": "execute_result",
          "data": {
            "text/plain": [
              "<matplotlib.axes._subplots.AxesSubplot at 0x7f03485bd290>"
            ]
          },
          "metadata": {},
          "execution_count": 134
        },
        {
          "output_type": "display_data",
          "data": {
            "text/plain": [
              "<Figure size 432x288 with 2 Axes>"
            ],
            "image/png": "[encoded data removed]"
          },
          "metadata": {
            "needs_background": "light"
          }
        }
      ]
    },
    {
      "cell_type": "code",
      "source": [
        "def generate_data_set(url):\n",
        "  data_set = []\n",
        "\n",
        "  try:\n",
        "    ipaddress.ip_address(url)\n",
        "    data_set.append(0)\n",
        "  except:\n",
        "    data_set.append(1)\n",
        "\n",
        "  if \"@\" in url:\n",
        "    data_set.append(0)\n",
        "  else:\n",
        "    data_set.append(1)\n",
        "\n",
        "  if len(url) < 54:\n",
        "    data_set.append(1)\n",
        "  else:\n",
        "    data_set.append(0)\n",
        "\n",
        "  protocol = urlparse(url)\n",
        "  if protocol.scheme == 'https':\n",
        "    data_set.append(0)\n",
        "  else:\n",
        "    data_set.append(1)\n",
        "\n",
        "  s = urlparse(url).path.split('/')\n",
        "  depth = 0\n",
        "  for j in range(len(s)):\n",
        "    if len(s[j]) != 0:\n",
        "      depth = depth+1\n",
        "  data_set.append(depth)\n",
        "\n",
        "  pos = url.rfind('//')\n",
        "  if pos > 6:\n",
        "    if pos > 7:\n",
        "      data_set.append(0)\n",
        "    else:\n",
        "      data_set.append(1)\n",
        "  else:\n",
        "    data_set.append(1)\n",
        "\n",
        "  if '-' in urlparse(url).netloc:\n",
        "    data_set.append(0)\n",
        "  else:\n",
        "    data_set.append(1)\n",
        "\n",
        "\n",
        "  shortening_services = r\"bit\\.ly|goo\\.gl|shorte\\.st|go2l\\.ink|x\\.co|ow\\.ly|t\\.co|tinyurl|tr\\.im|is\\.gd|cli\\.gs|\" \\\n",
        "                        r\"yfrog\\.com|migre\\.me|ff\\.im|tiny\\.cc|url4\\.eu|twit\\.ac|su\\.pr|twurl\\.nl|snipurl\\.com|\" \\\n",
        "                        r\"short\\.to|BudURL\\.com|ping\\.fm|post\\.ly|Just\\.as|bkite\\.com|snipr\\.com|fic\\.kr|loopt\\.us|\" \\\n",
        "                        r\"doiop\\.com|short\\.ie|kl\\.am|wp\\.me|rubyurl\\.com|om\\.ly|to\\.ly|bit\\.do|t\\.co|lnkd\\.in|db\\.tt|\" \\\n",
        "                        r\"qr\\.ae|adf\\.ly|goo\\.gl|bitly\\.com|cur\\.lv|tinyurl\\.com|ow\\.ly|bit\\.ly|ity\\.im|q\\.gs|is\\.gd|\" \\\n",
        "                        r\"po\\.st|bc\\.vc|twitthis\\.com|u\\.to|j\\.mp|buzurl\\.com|cutt\\.us|u\\.bb|yourls\\.org|x\\.co|\" \\\n",
        "                        r\"prettylinkpro\\.com|scrnch\\.me|filoops\\.info|vzturl\\.com|qr\\.net|1url\\.com|tweez\\.me|v\\.gd|\" \\\n",
        "                        r\"tr\\.im|link\\.zip\\.net\"\n",
        "\n",
        "  match=re.search(shortening_services,url)\n",
        "  if match:\n",
        "    data_set.append(0)\n",
        "  else:\n",
        "    data_set.append(1)\n",
        "\n",
        "  return data_set"
      ],
      "metadata": {
        "id": "t1IIcTQt85C7"
      },
      "execution_count": null,
      "outputs": []
    },
    {
      "cell_type": "code",
      "source": [
        "url1 = \"https://www.google.co.in/\"\n",
        "\n",
        "x = generate_data_set(url1)\n",
        "x = np.array(x).reshape(1,8)\n",
        "x"
      ],
      "metadata": {
        "id": "_l7KAbQ13q29",
        "colab": {
          "base_uri": "https://localhost:8080/"
        },
        "outputId": "6a5b0698-2967-430d-c599-e16e44164a3c"
      },
      "execution_count": null,
      "outputs": [
        {
          "output_type": "execute_result",
          "data": {
            "text/plain": [
              "array([[1, 1, 1, 0, 0, 1, 1, 1]])"
            ]
          },
          "metadata": {},
          "execution_count": 136
        }
      ]
    },
    {
      "cell_type": "code",
      "source": [
        "y_pred = model.predict(x)\n",
        "print(y_pred)"
      ],
      "metadata": {
        "id": "KrNpucZ43try",
        "colab": {
          "base_uri": "https://localhost:8080/"
        },
        "outputId": "535b724e-b09e-457d-f7a0-f01686dbd7ea"
      },
      "execution_count": null,
      "outputs": [
        {
          "output_type": "stream",
          "name": "stdout",
          "text": [
            "[[0.9873897]]\n"
          ]
        }
      ]
    },
    {
      "cell_type": "code",
      "source": [
        "if y_pred < 0.5:\n",
        "    print(\"Predicted Class - Phishing\")\n",
        "else:\n",
        "    print(\"Predicted Class - Benign\")"
      ],
      "metadata": {
        "id": "aP5lCGKS3wLd",
        "colab": {
          "base_uri": "https://localhost:8080/"
        },
        "outputId": "0fc7cc00-a512-4ed1-f0bb-494db577345a"
      },
      "execution_count": null,
      "outputs": [
        {
          "output_type": "stream",
          "name": "stdout",
          "text": [
            "Predicted Class - Benign\n"
          ]
        }
      ]
    }
  ]
}